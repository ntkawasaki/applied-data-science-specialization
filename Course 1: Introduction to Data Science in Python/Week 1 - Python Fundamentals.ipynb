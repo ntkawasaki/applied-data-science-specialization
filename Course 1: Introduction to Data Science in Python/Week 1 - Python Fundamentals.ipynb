{
 "cells": [
  {
   "cell_type": "markdown",
   "metadata": {},
   "source": [
    "# Python Fundamentals"
   ]
  },
  {
   "cell_type": "markdown",
   "metadata": {},
   "source": [
    "## Types and Sequences"
   ]
  },
  {
   "cell_type": "code",
   "execution_count": 3,
   "metadata": {},
   "outputs": [
    {
     "data": {
      "text/plain": [
       "str"
      ]
     },
     "execution_count": 3,
     "metadata": {},
     "output_type": "execute_result"
    }
   ],
   "source": [
    "type(\"This is a string\")"
   ]
  },
  {
   "cell_type": "code",
   "execution_count": 4,
   "metadata": {},
   "outputs": [
    {
     "data": {
      "text/plain": [
       "NoneType"
      ]
     },
     "execution_count": 4,
     "metadata": {},
     "output_type": "execute_result"
    }
   ],
   "source": [
    "type(None)"
   ]
  },
  {
   "cell_type": "code",
   "execution_count": 5,
   "metadata": {},
   "outputs": [
    {
     "data": {
      "text/plain": [
       "int"
      ]
     },
     "execution_count": 5,
     "metadata": {},
     "output_type": "execute_result"
    }
   ],
   "source": [
    "type(1)"
   ]
  },
  {
   "cell_type": "code",
   "execution_count": 6,
   "metadata": {},
   "outputs": [
    {
     "data": {
      "text/plain": [
       "float"
      ]
     },
     "execution_count": 6,
     "metadata": {},
     "output_type": "execute_result"
    }
   ],
   "source": [
    "type(1.0)"
   ]
  },
  {
   "cell_type": "code",
   "execution_count": 7,
   "metadata": {},
   "outputs": [
    {
     "data": {
      "text/plain": [
       "3"
      ]
     },
     "execution_count": 7,
     "metadata": {},
     "output_type": "execute_result"
    }
   ],
   "source": [
    "def add_numbers(x, y):\n",
    "    return x + y\n",
    "\n",
    "add_numbers(1,2)"
   ]
  },
  {
   "cell_type": "code",
   "execution_count": 8,
   "metadata": {},
   "outputs": [
    {
     "data": {
      "text/plain": [
       "function"
      ]
     },
     "execution_count": 8,
     "metadata": {},
     "output_type": "execute_result"
    }
   ],
   "source": [
    "type(add_numbers)"
   ]
  },
  {
   "cell_type": "code",
   "execution_count": 9,
   "metadata": {},
   "outputs": [
    {
     "data": {
      "text/plain": [
       "tuple"
      ]
     },
     "execution_count": 9,
     "metadata": {},
     "output_type": "execute_result"
    }
   ],
   "source": [
    "x = (1, \"hi\", 2, \"hey\")\n",
    "type(x)"
   ]
  },
  {
   "cell_type": "code",
   "execution_count": 11,
   "metadata": {},
   "outputs": [
    {
     "data": {
      "text/plain": [
       "list"
      ]
     },
     "execution_count": 11,
     "metadata": {},
     "output_type": "execute_result"
    }
   ],
   "source": [
    "x = [1, \"hi\", 2, \"hey\"]\n",
    "type(x)"
   ]
  },
  {
   "cell_type": "code",
   "execution_count": 12,
   "metadata": {},
   "outputs": [
    {
     "data": {
      "text/plain": [
       "[1, 'hi', 2, 'hey', 3.3]"
      ]
     },
     "execution_count": 12,
     "metadata": {},
     "output_type": "execute_result"
    }
   ],
   "source": [
    "x.append(3.3)\n",
    "x"
   ]
  },
  {
   "cell_type": "code",
   "execution_count": 14,
   "metadata": {},
   "outputs": [
    {
     "name": "stdout",
     "output_type": "stream",
     "text": [
      "1\n",
      "hi\n",
      "2\n",
      "hey\n",
      "3.3\n"
     ]
    }
   ],
   "source": [
    "i = 0\n",
    "\n",
    "while i < len(x):\n",
    "    print(x[i])\n",
    "    i += 1"
   ]
  },
  {
   "cell_type": "code",
   "execution_count": 15,
   "metadata": {},
   "outputs": [
    {
     "data": {
      "text/plain": [
       "[1, 2, 3, 4]"
      ]
     },
     "execution_count": 15,
     "metadata": {},
     "output_type": "execute_result"
    }
   ],
   "source": [
    "[1,2] + [3,4]"
   ]
  },
  {
   "cell_type": "code",
   "execution_count": 16,
   "metadata": {},
   "outputs": [
    {
     "data": {
      "text/plain": [
       "[1, 1, 1]"
      ]
     },
     "execution_count": 16,
     "metadata": {},
     "output_type": "execute_result"
    }
   ],
   "source": [
    "[1] * 3"
   ]
  },
  {
   "cell_type": "code",
   "execution_count": 17,
   "metadata": {},
   "outputs": [
    {
     "data": {
      "text/plain": [
       "True"
      ]
     },
     "execution_count": 17,
     "metadata": {},
     "output_type": "execute_result"
    }
   ],
   "source": [
    "# in operator\n",
    "1 in [1,2,3]"
   ]
  },
  {
   "cell_type": "code",
   "execution_count": 18,
   "metadata": {},
   "outputs": [
    {
     "name": "stdout",
     "output_type": "stream",
     "text": [
      "ChristopherBrooks\n",
      "ChristopherChristopherChristopher\n",
      "True\n"
     ]
    }
   ],
   "source": [
    "# slicing\n",
    "first = \"Christopher\" \n",
    "second = \"Brooks\"\n",
    "\n",
    "print(first + second)\n",
    "print(first * 3)\n",
    "print(\"Chris\" in first)"
   ]
  },
  {
   "cell_type": "code",
   "execution_count": 19,
   "metadata": {},
   "outputs": [
    {
     "name": "stdout",
     "output_type": "stream",
     "text": [
      "Noah\n",
      "Kawasaki\n"
     ]
    }
   ],
   "source": [
    "first = \"Noah Thomsen Kawasaki\".split(\" \")[0]\n",
    "last = \"Noah Thomsen Kawasaki\".split(\" \")[-1]\n",
    "\n",
    "print(first)\n",
    "print(last)"
   ]
  },
  {
   "cell_type": "code",
   "execution_count": 198,
   "metadata": {},
   "outputs": [
    {
     "data": {
      "text/plain": [
       "'ntkawasaki@gmail.com'"
      ]
     },
     "execution_count": 198,
     "metadata": {},
     "output_type": "execute_result"
    }
   ],
   "source": [
    "# dictionaries\n",
    "dict_names = {\"Noah Kawasaki\":\"ntkawasaki@gmail.com\", \n",
    "     \"Nic Kawasaki\":\"nickawasaki@salesforce.com\"}\n",
    "dict_names[\"Noah Kawasaki\"]"
   ]
  },
  {
   "cell_type": "code",
   "execution_count": 199,
   "metadata": {},
   "outputs": [
    {
     "name": "stdout",
     "output_type": "stream",
     "text": [
      "Noah Kawasaki\n",
      "Nic Kawasaki\n"
     ]
    }
   ],
   "source": [
    "# iterate keys\n",
    "for name in dict_names.keys():\n",
    "    print(name)"
   ]
  },
  {
   "cell_type": "code",
   "execution_count": 200,
   "metadata": {},
   "outputs": [
    {
     "name": "stdout",
     "output_type": "stream",
     "text": [
      "ntkawasaki@gmail.com\n",
      "nickawasaki@salesforce.com\n"
     ]
    }
   ],
   "source": [
    "# iterate values\n",
    "for email in dict_names.values():\n",
    "    print(email)"
   ]
  },
  {
   "cell_type": "code",
   "execution_count": 201,
   "metadata": {},
   "outputs": [
    {
     "name": "stdout",
     "output_type": "stream",
     "text": [
      "Noah Kawasaki ntkawasaki@gmail.com\n",
      "Nic Kawasaki nickawasaki@salesforce.com\n"
     ]
    }
   ],
   "source": [
    "# iterate keys and values\n",
    "for name, email in dict_names.items():\n",
    "    print(name + \" \" + email)"
   ]
  },
  {
   "cell_type": "code",
   "execution_count": 26,
   "metadata": {},
   "outputs": [
    {
     "name": "stdout",
     "output_type": "stream",
     "text": [
      "('Noah', 'Kawasaki', 'ntkawasaki@gmail.com')\n"
     ]
    }
   ],
   "source": [
    "# unpacking a tuple\n",
    "x = (\"Noah\", \"Kawasaki\", \"ntkawasaki@gmail.com\")\n",
    "first, last, email = x  # must assign same number of values to unpack\n",
    "print(x)"
   ]
  },
  {
   "cell_type": "markdown",
   "metadata": {},
   "source": [
    "## More on Strings"
   ]
  },
  {
   "cell_type": "code",
   "execution_count": 27,
   "metadata": {},
   "outputs": [
    {
     "ename": "TypeError",
     "evalue": "must be str, not int",
     "output_type": "error",
     "traceback": [
      "\u001b[0;31m---------------------------------------------------------------------------\u001b[0m",
      "\u001b[0;31mTypeError\u001b[0m                                 Traceback (most recent call last)",
      "\u001b[0;32m<ipython-input-27-4dc06aa9af0c>\u001b[0m in \u001b[0;36m<module>\u001b[0;34m()\u001b[0m\n\u001b[0;32m----> 1\u001b[0;31m \u001b[0mprint\u001b[0m\u001b[0;34m(\u001b[0m\u001b[0;34m\"Noah\"\u001b[0m \u001b[0;34m+\u001b[0m \u001b[0;36m2\u001b[0m\u001b[0;34m)\u001b[0m\u001b[0;34m\u001b[0m\u001b[0m\n\u001b[0m",
      "\u001b[0;31mTypeError\u001b[0m: must be str, not int"
     ]
    }
   ],
   "source": [
    "print(\"Noah\" + 2)"
   ]
  },
  {
   "cell_type": "code",
   "execution_count": 202,
   "metadata": {},
   "outputs": [
    {
     "name": "stdout",
     "output_type": "stream",
     "text": [
      "Noah 2\n"
     ]
    }
   ],
   "source": [
    "print(\"Noah \" + str(2))"
   ]
  },
  {
   "cell_type": "code",
   "execution_count": 32,
   "metadata": {},
   "outputs": [
    {
     "name": "stdout",
     "output_type": "stream",
     "text": [
      "Noah bought 4 items for a total of $12.96\n"
     ]
    }
   ],
   "source": [
    "# formatting language\n",
    "sales_record = {\"price\":3.24,\n",
    "                \"num_items\":4,\n",
    "                \"person\":\"Noah\"}\n",
    "\n",
    "sales_statement = \"{} bought {} items for a total of ${}\".format(sales_record[\"person\"], \n",
    "                                                                sales_record[\"num_items\"],\n",
    "                                                                (sales_record[\"num_items\"]*sales_record[\"price\"]))\n",
    "print(sales_statement)"
   ]
  },
  {
   "cell_type": "markdown",
   "metadata": {},
   "source": [
    "## Reading and Writing CSV Files"
   ]
  },
  {
   "cell_type": "code",
   "execution_count": 204,
   "metadata": {
    "scrolled": true
   },
   "outputs": [
    {
     "data": {
      "text/plain": [
       "[OrderedDict([('', '1'),\n",
       "              ('manufacturer', 'audi'),\n",
       "              ('model', 'a4'),\n",
       "              ('displ', '1.8'),\n",
       "              ('year', '1999'),\n",
       "              ('cyl', '4'),\n",
       "              ('trans', 'auto(l5)'),\n",
       "              ('drv', 'f'),\n",
       "              ('cty', '18'),\n",
       "              ('hwy', '29'),\n",
       "              ('fl', 'p'),\n",
       "              ('class', 'compact')]),\n",
       " OrderedDict([('', '2'),\n",
       "              ('manufacturer', 'audi'),\n",
       "              ('model', 'a4'),\n",
       "              ('displ', '1.8'),\n",
       "              ('year', '1999'),\n",
       "              ('cyl', '4'),\n",
       "              ('trans', 'manual(m5)'),\n",
       "              ('drv', 'f'),\n",
       "              ('cty', '21'),\n",
       "              ('hwy', '29'),\n",
       "              ('fl', 'p'),\n",
       "              ('class', 'compact')]),\n",
       " OrderedDict([('', '3'),\n",
       "              ('manufacturer', 'audi'),\n",
       "              ('model', 'a4'),\n",
       "              ('displ', '2'),\n",
       "              ('year', '2008'),\n",
       "              ('cyl', '4'),\n",
       "              ('trans', 'manual(m6)'),\n",
       "              ('drv', 'f'),\n",
       "              ('cty', '20'),\n",
       "              ('hwy', '31'),\n",
       "              ('fl', 'p'),\n",
       "              ('class', 'compact')])]"
      ]
     },
     "execution_count": 204,
     "metadata": {},
     "output_type": "execute_result"
    }
   ],
   "source": [
    "import csv\n",
    "%precision 2\n",
    "\n",
    "abs_path = \"/Users/noahkawasaki/Desktop/Programs/Python/Applied Data Science with Python Specialization/Introduction to Data Science in Python/downloads/mpg.csv\"\n",
    "\n",
    "with open (absolute_path) as csv_file:\n",
    "    mpg = list(csv.DictReader(csv_file))\n",
    "    \n",
    "# first 3 dictionaries in list\n",
    "mpg[:3]"
   ]
  },
  {
   "cell_type": "code",
   "execution_count": 34,
   "metadata": {},
   "outputs": [
    {
     "data": {
      "text/plain": [
       "234"
      ]
     },
     "execution_count": 34,
     "metadata": {},
     "output_type": "execute_result"
    }
   ],
   "source": [
    "# number of rows\n",
    "len(mpg)"
   ]
  },
  {
   "cell_type": "code",
   "execution_count": 208,
   "metadata": {},
   "outputs": [
    {
     "data": {
      "text/plain": [
       "odict_items([('', '1'), ('manufacturer', 'audi'), ('model', 'a4'), ('displ', '1.8'), ('year', '1999'), ('cyl', '4'), ('trans', 'auto(l5)'), ('drv', 'f'), ('cty', '18'), ('hwy', '29'), ('fl', 'p'), ('class', 'compact')])"
      ]
     },
     "execution_count": 208,
     "metadata": {},
     "output_type": "execute_result"
    }
   ],
   "source": [
    "mpg[0].keys()\n",
    "mpg[0].values()\n",
    "mpg[0].items()"
   ]
  },
  {
   "cell_type": "code",
   "execution_count": 209,
   "metadata": {},
   "outputs": [
    {
     "data": {
      "text/plain": [
       "16.86"
      ]
     },
     "execution_count": 209,
     "metadata": {},
     "output_type": "execute_result"
    }
   ],
   "source": [
    "# average city mpg\n",
    "# (must convert strings to float for math)\n",
    "sum(float(row[\"cty\"]) for row in mpg) / len(mpg)  # these are list comprehensions"
   ]
  },
  {
   "cell_type": "code",
   "execution_count": 210,
   "metadata": {},
   "outputs": [
    {
     "data": {
      "text/plain": [
       "23.44"
      ]
     },
     "execution_count": 210,
     "metadata": {},
     "output_type": "execute_result"
    }
   ],
   "source": [
    "# average highway mpg\n",
    "sum(float(row[\"hwy\"]) for row in mpg) / len(mpg)"
   ]
  },
  {
   "cell_type": "code",
   "execution_count": 211,
   "metadata": {},
   "outputs": [
    {
     "data": {
      "text/plain": [
       "{'4', '5', '6', '8'}"
      ]
     },
     "execution_count": 211,
     "metadata": {},
     "output_type": "execute_result"
    }
   ],
   "source": [
    "# average city mpg, grouped by cylinders\n",
    "\n",
    "# make set of cylinder types\n",
    "# set(): Build an unordered collection of unique elements.\n",
    "cylinders = set(row[\"cyl\"] for row in mpg)\n",
    "cylinders"
   ]
  },
  {
   "cell_type": "code",
   "execution_count": 218,
   "metadata": {
    "scrolled": true
   },
   "outputs": [
    {
     "data": {
      "text/plain": [
       "[('4', 21.01), ('5', 20.50), ('6', 16.22), ('8', 12.57)]"
      ]
     },
     "execution_count": 218,
     "metadata": {},
     "output_type": "execute_result"
    }
   ],
   "source": [
    "city_mpg_by_cyl = []\n",
    "\n",
    "# iterate over each type of cylinder\n",
    "for c in cylinders:\n",
    "    sum_mpg = 0\n",
    "    cylinder_count = 0\n",
    "    \n",
    "    # iterate over each row, if cyl equals current cylinder --> sum mpg and average over number of cyl count\n",
    "    for row in mpg:\n",
    "        if row[\"cyl\"] == c:\n",
    "            sum_mpg += float(row[\"cty\"])\n",
    "            cylinder_count += 1\n",
    "        \n",
    "    # append to list of tuples\n",
    "    city_mpg_by_cyl.append((c, (sum_mpg/cylinder_count)))\n",
    "    \n",
    "# reorder by keys\n",
    "city_mpg_by_cyl.sort(key=lambda x: x[0])\n",
    "city_mpg_by_cyl\n",
    "            \n",
    "            "
   ]
  },
  {
   "cell_type": "code",
   "execution_count": 219,
   "metadata": {},
   "outputs": [
    {
     "data": {
      "text/plain": [
       "{'2seater', 'compact', 'midsize', 'minivan', 'pickup', 'subcompact', 'suv'}"
      ]
     },
     "execution_count": 219,
     "metadata": {},
     "output_type": "execute_result"
    }
   ],
   "source": [
    "# average highway mpg by class of vehicle\n",
    "\n",
    "vehicle_class = set(row[\"class\"] for row in mpg)\n",
    "vehicle_class"
   ]
  },
  {
   "cell_type": "code",
   "execution_count": 220,
   "metadata": {},
   "outputs": [
    {
     "data": {
      "text/plain": [
       "[('2seater', 1.53),\n",
       " ('minivan', 3.04),\n",
       " ('pickup', 6.88),\n",
       " ('subcompact', 12.16),\n",
       " ('midsize', 13.81),\n",
       " ('suv', 13.88),\n",
       " ('compact', 16.42)]"
      ]
     },
     "execution_count": 220,
     "metadata": {},
     "output_type": "execute_result"
    }
   ],
   "source": [
    "hwy_mpg_by_class = []\n",
    "\n",
    "# iterate over each type of vehicle\n",
    "for v in vehicle_class:\n",
    "    sum_mpg = 0\n",
    "    class_count = 0\n",
    "    \n",
    "    # iterate over each row, if class equals current class --> sum mpg and average over number of class count\n",
    "    for row in mpg:\n",
    "        if row[\"class\"] == v:\n",
    "            sum_mpg += float(row[\"hwy\"])\n",
    "            class_count += 1\n",
    "        \n",
    "    # append to list of tuples\n",
    "    hwy_mpg_by_class.append((v, (sum_mpg/cylinder_count)))\n",
    "    \n",
    "# reorder by values\n",
    "hwy_mpg_by_class.sort(key=lambda x: x[1])\n",
    "hwy_mpg_by_class"
   ]
  },
  {
   "cell_type": "markdown",
   "metadata": {},
   "source": [
    "## Dates and Times"
   ]
  },
  {
   "cell_type": "code",
   "execution_count": 47,
   "metadata": {},
   "outputs": [],
   "source": [
    "import datetime as dt\n",
    "import time as tm"
   ]
  },
  {
   "cell_type": "code",
   "execution_count": 48,
   "metadata": {},
   "outputs": [
    {
     "data": {
      "text/plain": [
       "1514148140.07"
      ]
     },
     "execution_count": 48,
     "metadata": {},
     "output_type": "execute_result"
    }
   ],
   "source": [
    "# current time in seconds from epoch\n",
    "tm.time()"
   ]
  },
  {
   "cell_type": "code",
   "execution_count": 50,
   "metadata": {},
   "outputs": [
    {
     "data": {
      "text/plain": [
       "datetime.datetime(2017, 12, 24, 10, 43, 54, 46766)"
      ]
     },
     "execution_count": 50,
     "metadata": {},
     "output_type": "execute_result"
    }
   ],
   "source": [
    "dt_now = dt.datetime.fromtimestamp(tm.time())\n",
    "dt_now"
   ]
  },
  {
   "cell_type": "code",
   "execution_count": 51,
   "metadata": {},
   "outputs": [
    {
     "data": {
      "text/plain": [
       "(2017, 12, 24, 10, 43, 54)"
      ]
     },
     "execution_count": 51,
     "metadata": {},
     "output_type": "execute_result"
    }
   ],
   "source": [
    "# attributes\n",
    "dt_now.year, dt_now.month, dt_now.day, dt_now.hour, dt_now.minute, dt_now.second"
   ]
  },
  {
   "cell_type": "code",
   "execution_count": 53,
   "metadata": {},
   "outputs": [
    {
     "data": {
      "text/plain": [
       "datetime.timedelta(100)"
      ]
     },
     "execution_count": 53,
     "metadata": {},
     "output_type": "execute_result"
    }
   ],
   "source": [
    "delta = dt.timedelta(days=100)\n",
    "delta"
   ]
  },
  {
   "cell_type": "code",
   "execution_count": 56,
   "metadata": {},
   "outputs": [
    {
     "data": {
      "text/plain": [
       "datetime.date(2017, 12, 24)"
      ]
     },
     "execution_count": 56,
     "metadata": {},
     "output_type": "execute_result"
    }
   ],
   "source": [
    "today = dt.date.today()\n",
    "today"
   ]
  },
  {
   "cell_type": "code",
   "execution_count": 57,
   "metadata": {},
   "outputs": [
    {
     "data": {
      "text/plain": [
       "datetime.date(2017, 9, 15)"
      ]
     },
     "execution_count": 57,
     "metadata": {},
     "output_type": "execute_result"
    }
   ],
   "source": [
    "today - delta"
   ]
  },
  {
   "cell_type": "code",
   "execution_count": 58,
   "metadata": {},
   "outputs": [
    {
     "data": {
      "text/plain": [
       "True"
      ]
     },
     "execution_count": 58,
     "metadata": {},
     "output_type": "execute_result"
    }
   ],
   "source": [
    "today > today - delta"
   ]
  },
  {
   "cell_type": "markdown",
   "metadata": {},
   "source": [
    "## Objects and map()"
   ]
  },
  {
   "cell_type": "code",
   "execution_count": 60,
   "metadata": {
    "collapsed": true
   },
   "outputs": [],
   "source": [
    "class Person():\n",
    "    department = \"School of Information\"\n",
    "    \n",
    "    def set_name(self, name):\n",
    "        self.name = name\n",
    "    \n",
    "    def set_location(self, location):\n",
    "        self.location = location"
   ]
  },
  {
   "cell_type": "code",
   "execution_count": 63,
   "metadata": {},
   "outputs": [
    {
     "name": "stdout",
     "output_type": "stream",
     "text": [
      "Noah lives in Hawaii and works for the department: School of Information\n"
     ]
    }
   ],
   "source": [
    "person = Person()\n",
    "person.set_name(\"Noah\")\n",
    "person.set_location(\"Hawaii\")\n",
    "\n",
    "print(\"{} lives in {} and works for the department: {}\".format(person.name, person.location, person.department))"
   ]
  },
  {
   "cell_type": "code",
   "execution_count": 64,
   "metadata": {
    "collapsed": true
   },
   "outputs": [],
   "source": [
    "# map() function\n",
    "# dont use () for functions\n",
    "\n",
    "# Imagine we have two list of numbers, maybe prices from two different stores on exactly the same items. \n",
    "# And we wanted to find the minimum that we would have to pay if we bought the cheaper item between the two stores. \n",
    "# To do this, we could iterate through each list, comparing items and choosing the cheapest. \n",
    "\n",
    "store_1 = [10.00, 11.00, 12.34, 2.34]\n",
    "store_2 = [9.00, 11.10, 12.34, 2.01]\n",
    "\n",
    "cheapest = map(min, store_1, store_2)"
   ]
  },
  {
   "cell_type": "code",
   "execution_count": 222,
   "metadata": {},
   "outputs": [
    {
     "data": {
      "text/plain": [
       "<map at 0x1122787f0>"
      ]
     },
     "execution_count": 222,
     "metadata": {},
     "output_type": "execute_result"
    }
   ],
   "source": [
    "# returns map object (lazy evaluation)\n",
    "cheapest"
   ]
  },
  {
   "cell_type": "code",
   "execution_count": 68,
   "metadata": {},
   "outputs": [
    {
     "data": {
      "text/plain": [
       "['Dr. Brooks', 'Dr. Collins-Thompson', 'Dr. Vydiswaran', 'Dr. Romero']"
      ]
     },
     "execution_count": 68,
     "metadata": {},
     "output_type": "execute_result"
    }
   ],
   "source": [
    "# exercise\n",
    "people = ['Dr. Christopher Brooks', 'Dr. Kevyn Collins-Thompson', 'Dr. VG Vinod Vydiswaran', 'Dr. Daniel Romero']\n",
    "\n",
    "def split_title_and_name(person):\n",
    "    title = person.split()[0]\n",
    "    lastname = person.split()[-1]\n",
    "    \n",
    "    return '{} {}'.format(title, lastname)\n",
    "\n",
    "# map() runs a function on every item in a list\n",
    "list(map(split_title_and_name, people))"
   ]
  },
  {
   "cell_type": "markdown",
   "metadata": {},
   "source": [
    "## Lambda and List Comprehensions"
   ]
  },
  {
   "cell_type": "code",
   "execution_count": 223,
   "metadata": {
    "collapsed": true
   },
   "outputs": [],
   "source": [
    "# anonymous functions that are simple/short-lived so its easier to write out the function in one line\n",
    "\n",
    "# You declare a lambda function with the word lambda followed by a list of arguments, followed by a colon \n",
    "# and then a single expression. There's only one expression to be evaluated in a lambda. \n",
    "# The expression value is returned on execution of the lambda. "
   ]
  },
  {
   "cell_type": "code",
   "execution_count": 226,
   "metadata": {},
   "outputs": [],
   "source": [
    "my_function = lambda a, b, c : a + b"
   ]
  },
  {
   "cell_type": "code",
   "execution_count": 227,
   "metadata": {},
   "outputs": [
    {
     "data": {
      "text/plain": [
       "3"
      ]
     },
     "execution_count": 227,
     "metadata": {},
     "output_type": "execute_result"
    }
   ],
   "source": [
    "my_function(1, 2, 5)"
   ]
  },
  {
   "cell_type": "code",
   "execution_count": 90,
   "metadata": {},
   "outputs": [
    {
     "name": "stdout",
     "output_type": "stream",
     "text": [
      "True\n",
      "True\n",
      "True\n",
      "True\n"
     ]
    },
    {
     "data": {
      "text/plain": [
       "True"
      ]
     },
     "execution_count": 90,
     "metadata": {},
     "output_type": "execute_result"
    }
   ],
   "source": [
    "# exercise: rewrite this function in a lambda expression\n",
    "people = ['Dr. Christopher Brooks', 'Dr. Kevyn Collins-Thompson', 'Dr. VG Vinod Vydiswaran', 'Dr. Daniel Romero']\n",
    "\n",
    "def split_title_and_name(person):\n",
    "    return person.split()[0] + ' ' + person.split()[-1]\n",
    "\n",
    "\n",
    "# option 1\n",
    "for person in people:\n",
    "    print(split_title_and_name(person) == (lambda x: x.split()[0] + \" \" + x.split()[-1])(person))  # pass x value this way?\n",
    "\n",
    "# option 2\n",
    "list(map(split_title_and_name, people)) == list(map(lambda person: person.split()[0] + \" \" + person.split()[-1], people))"
   ]
  },
  {
   "cell_type": "code",
   "execution_count": 93,
   "metadata": {
    "scrolled": true
   },
   "outputs": [
    {
     "data": {
      "text/plain": [
       "[0,\n",
       " 2,\n",
       " 4,\n",
       " 6,\n",
       " 8,\n",
       " 10,\n",
       " 12,\n",
       " 14,\n",
       " 16,\n",
       " 18,\n",
       " 20,\n",
       " 22,\n",
       " 24,\n",
       " 26,\n",
       " 28,\n",
       " 30,\n",
       " 32,\n",
       " 34,\n",
       " 36,\n",
       " 38,\n",
       " 40,\n",
       " 42,\n",
       " 44,\n",
       " 46,\n",
       " 48,\n",
       " 50,\n",
       " 52,\n",
       " 54,\n",
       " 56,\n",
       " 58,\n",
       " 60,\n",
       " 62,\n",
       " 64,\n",
       " 66,\n",
       " 68,\n",
       " 70,\n",
       " 72,\n",
       " 74,\n",
       " 76,\n",
       " 78,\n",
       " 80,\n",
       " 82,\n",
       " 84,\n",
       " 86,\n",
       " 88,\n",
       " 90,\n",
       " 92,\n",
       " 94,\n",
       " 96,\n",
       " 98]"
      ]
     },
     "execution_count": 93,
     "metadata": {},
     "output_type": "execute_result"
    }
   ],
   "source": [
    "# list comprehensions\n",
    "my_list = []\n",
    "\n",
    "# for loop version\n",
    "for num in range(0,100):\n",
    "    if num % 2 == 0:\n",
    "        my_list.append(num)\n",
    "        \n",
    "my_list"
   ]
  },
  {
   "cell_type": "code",
   "execution_count": 94,
   "metadata": {
    "scrolled": true
   },
   "outputs": [
    {
     "data": {
      "text/plain": [
       "[0,\n",
       " 2,\n",
       " 4,\n",
       " 6,\n",
       " 8,\n",
       " 10,\n",
       " 12,\n",
       " 14,\n",
       " 16,\n",
       " 18,\n",
       " 20,\n",
       " 22,\n",
       " 24,\n",
       " 26,\n",
       " 28,\n",
       " 30,\n",
       " 32,\n",
       " 34,\n",
       " 36,\n",
       " 38,\n",
       " 40,\n",
       " 42,\n",
       " 44,\n",
       " 46,\n",
       " 48,\n",
       " 50,\n",
       " 52,\n",
       " 54,\n",
       " 56,\n",
       " 58,\n",
       " 60,\n",
       " 62,\n",
       " 64,\n",
       " 66,\n",
       " 68,\n",
       " 70,\n",
       " 72,\n",
       " 74,\n",
       " 76,\n",
       " 78,\n",
       " 80,\n",
       " 82,\n",
       " 84,\n",
       " 86,\n",
       " 88,\n",
       " 90,\n",
       " 92,\n",
       " 94,\n",
       " 96,\n",
       " 98]"
      ]
     },
     "execution_count": 94,
     "metadata": {},
     "output_type": "execute_result"
    }
   ],
   "source": [
    "# list comprehension version\n",
    "# formula: value, for loop, condition\n",
    "my_list = [num for num in range(0,100) if num % 2 == 0]\n",
    "my_list"
   ]
  },
  {
   "cell_type": "code",
   "execution_count": 229,
   "metadata": {},
   "outputs": [
    {
     "data": {
      "text/plain": [
       "True"
      ]
     },
     "execution_count": 229,
     "metadata": {},
     "output_type": "execute_result"
    }
   ],
   "source": [
    "# exercise: convert to list comprehension\n",
    "\n",
    "def times_tables():\n",
    "    lst = []\n",
    "    for i in range(10):\n",
    "        for j in range (10):\n",
    "            lst.append(i*j)\n",
    "    return lst\n",
    "\n",
    "# solution\n",
    "times_tables() == [i*j for i in range(10) for j in range(10)]"
   ]
  },
  {
   "cell_type": "code",
   "execution_count": 99,
   "metadata": {
    "scrolled": true
   },
   "outputs": [
    {
     "data": {
      "text/plain": [
       "['aa00',\n",
       " 'aa01',\n",
       " 'aa02',\n",
       " 'aa03',\n",
       " 'aa04',\n",
       " 'aa05',\n",
       " 'aa06',\n",
       " 'aa07',\n",
       " 'aa08',\n",
       " 'aa09',\n",
       " 'aa10',\n",
       " 'aa11',\n",
       " 'aa12',\n",
       " 'aa13',\n",
       " 'aa14',\n",
       " 'aa15',\n",
       " 'aa16',\n",
       " 'aa17',\n",
       " 'aa18',\n",
       " 'aa19',\n",
       " 'aa20',\n",
       " 'aa21',\n",
       " 'aa22',\n",
       " 'aa23',\n",
       " 'aa24',\n",
       " 'aa25',\n",
       " 'aa26',\n",
       " 'aa27',\n",
       " 'aa28',\n",
       " 'aa29',\n",
       " 'aa30',\n",
       " 'aa31',\n",
       " 'aa32',\n",
       " 'aa33',\n",
       " 'aa34',\n",
       " 'aa35',\n",
       " 'aa36',\n",
       " 'aa37',\n",
       " 'aa38',\n",
       " 'aa39',\n",
       " 'aa40',\n",
       " 'aa41',\n",
       " 'aa42',\n",
       " 'aa43',\n",
       " 'aa44',\n",
       " 'aa45',\n",
       " 'aa46',\n",
       " 'aa47',\n",
       " 'aa48',\n",
       " 'aa49',\n",
       " 'aa50',\n",
       " 'aa51',\n",
       " 'aa52',\n",
       " 'aa53',\n",
       " 'aa54',\n",
       " 'aa55',\n",
       " 'aa56',\n",
       " 'aa57',\n",
       " 'aa58',\n",
       " 'aa59',\n",
       " 'aa60',\n",
       " 'aa61',\n",
       " 'aa62',\n",
       " 'aa63',\n",
       " 'aa64',\n",
       " 'aa65',\n",
       " 'aa66',\n",
       " 'aa67',\n",
       " 'aa68',\n",
       " 'aa69',\n",
       " 'aa70',\n",
       " 'aa71',\n",
       " 'aa72',\n",
       " 'aa73',\n",
       " 'aa74',\n",
       " 'aa75',\n",
       " 'aa76',\n",
       " 'aa77',\n",
       " 'aa78',\n",
       " 'aa79',\n",
       " 'aa80',\n",
       " 'aa81',\n",
       " 'aa82',\n",
       " 'aa83',\n",
       " 'aa84',\n",
       " 'aa85',\n",
       " 'aa86',\n",
       " 'aa87',\n",
       " 'aa88',\n",
       " 'aa89',\n",
       " 'aa90',\n",
       " 'aa91',\n",
       " 'aa92',\n",
       " 'aa93',\n",
       " 'aa94',\n",
       " 'aa95',\n",
       " 'aa96',\n",
       " 'aa97',\n",
       " 'aa98',\n",
       " 'aa99',\n",
       " 'ab00',\n",
       " 'ab01',\n",
       " 'ab02',\n",
       " 'ab03',\n",
       " 'ab04',\n",
       " 'ab05',\n",
       " 'ab06',\n",
       " 'ab07',\n",
       " 'ab08',\n",
       " 'ab09',\n",
       " 'ab10',\n",
       " 'ab11',\n",
       " 'ab12',\n",
       " 'ab13',\n",
       " 'ab14',\n",
       " 'ab15',\n",
       " 'ab16',\n",
       " 'ab17',\n",
       " 'ab18',\n",
       " 'ab19',\n",
       " 'ab20',\n",
       " 'ab21',\n",
       " 'ab22',\n",
       " 'ab23',\n",
       " 'ab24',\n",
       " 'ab25',\n",
       " 'ab26',\n",
       " 'ab27',\n",
       " 'ab28',\n",
       " 'ab29',\n",
       " 'ab30',\n",
       " 'ab31',\n",
       " 'ab32',\n",
       " 'ab33',\n",
       " 'ab34',\n",
       " 'ab35',\n",
       " 'ab36',\n",
       " 'ab37',\n",
       " 'ab38',\n",
       " 'ab39',\n",
       " 'ab40',\n",
       " 'ab41',\n",
       " 'ab42',\n",
       " 'ab43',\n",
       " 'ab44',\n",
       " 'ab45',\n",
       " 'ab46',\n",
       " 'ab47',\n",
       " 'ab48',\n",
       " 'ab49',\n",
       " 'ab50',\n",
       " 'ab51',\n",
       " 'ab52',\n",
       " 'ab53',\n",
       " 'ab54',\n",
       " 'ab55',\n",
       " 'ab56',\n",
       " 'ab57',\n",
       " 'ab58',\n",
       " 'ab59',\n",
       " 'ab60',\n",
       " 'ab61',\n",
       " 'ab62',\n",
       " 'ab63',\n",
       " 'ab64',\n",
       " 'ab65',\n",
       " 'ab66',\n",
       " 'ab67',\n",
       " 'ab68',\n",
       " 'ab69',\n",
       " 'ab70',\n",
       " 'ab71',\n",
       " 'ab72',\n",
       " 'ab73',\n",
       " 'ab74',\n",
       " 'ab75',\n",
       " 'ab76',\n",
       " 'ab77',\n",
       " 'ab78',\n",
       " 'ab79',\n",
       " 'ab80',\n",
       " 'ab81',\n",
       " 'ab82',\n",
       " 'ab83',\n",
       " 'ab84',\n",
       " 'ab85',\n",
       " 'ab86',\n",
       " 'ab87',\n",
       " 'ab88',\n",
       " 'ab89',\n",
       " 'ab90',\n",
       " 'ab91',\n",
       " 'ab92',\n",
       " 'ab93',\n",
       " 'ab94',\n",
       " 'ab95',\n",
       " 'ab96',\n",
       " 'ab97',\n",
       " 'ab98',\n",
       " 'ab99',\n",
       " 'ac00',\n",
       " 'ac01',\n",
       " 'ac02',\n",
       " 'ac03',\n",
       " 'ac04',\n",
       " 'ac05',\n",
       " 'ac06',\n",
       " 'ac07',\n",
       " 'ac08',\n",
       " 'ac09',\n",
       " 'ac10',\n",
       " 'ac11',\n",
       " 'ac12',\n",
       " 'ac13',\n",
       " 'ac14',\n",
       " 'ac15',\n",
       " 'ac16',\n",
       " 'ac17',\n",
       " 'ac18',\n",
       " 'ac19',\n",
       " 'ac20',\n",
       " 'ac21',\n",
       " 'ac22',\n",
       " 'ac23',\n",
       " 'ac24',\n",
       " 'ac25',\n",
       " 'ac26',\n",
       " 'ac27',\n",
       " 'ac28',\n",
       " 'ac29',\n",
       " 'ac30',\n",
       " 'ac31',\n",
       " 'ac32',\n",
       " 'ac33',\n",
       " 'ac34',\n",
       " 'ac35',\n",
       " 'ac36',\n",
       " 'ac37',\n",
       " 'ac38',\n",
       " 'ac39',\n",
       " 'ac40',\n",
       " 'ac41',\n",
       " 'ac42',\n",
       " 'ac43',\n",
       " 'ac44',\n",
       " 'ac45',\n",
       " 'ac46',\n",
       " 'ac47',\n",
       " 'ac48',\n",
       " 'ac49',\n",
       " 'ac50',\n",
       " 'ac51',\n",
       " 'ac52',\n",
       " 'ac53',\n",
       " 'ac54',\n",
       " 'ac55',\n",
       " 'ac56',\n",
       " 'ac57',\n",
       " 'ac58',\n",
       " 'ac59',\n",
       " 'ac60',\n",
       " 'ac61',\n",
       " 'ac62',\n",
       " 'ac63',\n",
       " 'ac64',\n",
       " 'ac65',\n",
       " 'ac66',\n",
       " 'ac67',\n",
       " 'ac68',\n",
       " 'ac69',\n",
       " 'ac70',\n",
       " 'ac71',\n",
       " 'ac72',\n",
       " 'ac73',\n",
       " 'ac74',\n",
       " 'ac75',\n",
       " 'ac76',\n",
       " 'ac77',\n",
       " 'ac78',\n",
       " 'ac79',\n",
       " 'ac80',\n",
       " 'ac81',\n",
       " 'ac82',\n",
       " 'ac83',\n",
       " 'ac84',\n",
       " 'ac85',\n",
       " 'ac86',\n",
       " 'ac87',\n",
       " 'ac88',\n",
       " 'ac89',\n",
       " 'ac90',\n",
       " 'ac91',\n",
       " 'ac92',\n",
       " 'ac93',\n",
       " 'ac94',\n",
       " 'ac95',\n",
       " 'ac96',\n",
       " 'ac97',\n",
       " 'ac98',\n",
       " 'ac99',\n",
       " 'ad00',\n",
       " 'ad01',\n",
       " 'ad02',\n",
       " 'ad03',\n",
       " 'ad04',\n",
       " 'ad05',\n",
       " 'ad06',\n",
       " 'ad07',\n",
       " 'ad08',\n",
       " 'ad09',\n",
       " 'ad10',\n",
       " 'ad11',\n",
       " 'ad12',\n",
       " 'ad13',\n",
       " 'ad14',\n",
       " 'ad15',\n",
       " 'ad16',\n",
       " 'ad17',\n",
       " 'ad18',\n",
       " 'ad19',\n",
       " 'ad20',\n",
       " 'ad21',\n",
       " 'ad22',\n",
       " 'ad23',\n",
       " 'ad24',\n",
       " 'ad25',\n",
       " 'ad26',\n",
       " 'ad27',\n",
       " 'ad28',\n",
       " 'ad29',\n",
       " 'ad30',\n",
       " 'ad31',\n",
       " 'ad32',\n",
       " 'ad33',\n",
       " 'ad34',\n",
       " 'ad35',\n",
       " 'ad36',\n",
       " 'ad37',\n",
       " 'ad38',\n",
       " 'ad39',\n",
       " 'ad40',\n",
       " 'ad41',\n",
       " 'ad42',\n",
       " 'ad43',\n",
       " 'ad44',\n",
       " 'ad45',\n",
       " 'ad46',\n",
       " 'ad47',\n",
       " 'ad48',\n",
       " 'ad49',\n",
       " 'ad50',\n",
       " 'ad51',\n",
       " 'ad52',\n",
       " 'ad53',\n",
       " 'ad54',\n",
       " 'ad55',\n",
       " 'ad56',\n",
       " 'ad57',\n",
       " 'ad58',\n",
       " 'ad59',\n",
       " 'ad60',\n",
       " 'ad61',\n",
       " 'ad62',\n",
       " 'ad63',\n",
       " 'ad64',\n",
       " 'ad65',\n",
       " 'ad66',\n",
       " 'ad67',\n",
       " 'ad68',\n",
       " 'ad69',\n",
       " 'ad70',\n",
       " 'ad71',\n",
       " 'ad72',\n",
       " 'ad73',\n",
       " 'ad74',\n",
       " 'ad75',\n",
       " 'ad76',\n",
       " 'ad77',\n",
       " 'ad78',\n",
       " 'ad79',\n",
       " 'ad80',\n",
       " 'ad81',\n",
       " 'ad82',\n",
       " 'ad83',\n",
       " 'ad84',\n",
       " 'ad85',\n",
       " 'ad86',\n",
       " 'ad87',\n",
       " 'ad88',\n",
       " 'ad89',\n",
       " 'ad90',\n",
       " 'ad91',\n",
       " 'ad92',\n",
       " 'ad93',\n",
       " 'ad94',\n",
       " 'ad95',\n",
       " 'ad96',\n",
       " 'ad97',\n",
       " 'ad98',\n",
       " 'ad99',\n",
       " 'ae00',\n",
       " 'ae01',\n",
       " 'ae02',\n",
       " 'ae03',\n",
       " 'ae04',\n",
       " 'ae05',\n",
       " 'ae06',\n",
       " 'ae07',\n",
       " 'ae08',\n",
       " 'ae09',\n",
       " 'ae10',\n",
       " 'ae11',\n",
       " 'ae12',\n",
       " 'ae13',\n",
       " 'ae14',\n",
       " 'ae15',\n",
       " 'ae16',\n",
       " 'ae17',\n",
       " 'ae18',\n",
       " 'ae19',\n",
       " 'ae20',\n",
       " 'ae21',\n",
       " 'ae22',\n",
       " 'ae23',\n",
       " 'ae24',\n",
       " 'ae25',\n",
       " 'ae26',\n",
       " 'ae27',\n",
       " 'ae28',\n",
       " 'ae29',\n",
       " 'ae30',\n",
       " 'ae31',\n",
       " 'ae32',\n",
       " 'ae33',\n",
       " 'ae34',\n",
       " 'ae35',\n",
       " 'ae36',\n",
       " 'ae37',\n",
       " 'ae38',\n",
       " 'ae39',\n",
       " 'ae40',\n",
       " 'ae41',\n",
       " 'ae42',\n",
       " 'ae43',\n",
       " 'ae44',\n",
       " 'ae45',\n",
       " 'ae46',\n",
       " 'ae47',\n",
       " 'ae48',\n",
       " 'ae49',\n",
       " 'ae50',\n",
       " 'ae51',\n",
       " 'ae52',\n",
       " 'ae53',\n",
       " 'ae54',\n",
       " 'ae55',\n",
       " 'ae56',\n",
       " 'ae57',\n",
       " 'ae58',\n",
       " 'ae59',\n",
       " 'ae60',\n",
       " 'ae61',\n",
       " 'ae62',\n",
       " 'ae63',\n",
       " 'ae64',\n",
       " 'ae65',\n",
       " 'ae66',\n",
       " 'ae67',\n",
       " 'ae68',\n",
       " 'ae69',\n",
       " 'ae70',\n",
       " 'ae71',\n",
       " 'ae72',\n",
       " 'ae73',\n",
       " 'ae74',\n",
       " 'ae75',\n",
       " 'ae76',\n",
       " 'ae77',\n",
       " 'ae78',\n",
       " 'ae79',\n",
       " 'ae80',\n",
       " 'ae81',\n",
       " 'ae82',\n",
       " 'ae83',\n",
       " 'ae84',\n",
       " 'ae85',\n",
       " 'ae86',\n",
       " 'ae87',\n",
       " 'ae88',\n",
       " 'ae89',\n",
       " 'ae90',\n",
       " 'ae91',\n",
       " 'ae92',\n",
       " 'ae93',\n",
       " 'ae94',\n",
       " 'ae95',\n",
       " 'ae96',\n",
       " 'ae97',\n",
       " 'ae98',\n",
       " 'ae99',\n",
       " 'af00',\n",
       " 'af01',\n",
       " 'af02',\n",
       " 'af03',\n",
       " 'af04',\n",
       " 'af05',\n",
       " 'af06',\n",
       " 'af07',\n",
       " 'af08',\n",
       " 'af09',\n",
       " 'af10',\n",
       " 'af11',\n",
       " 'af12',\n",
       " 'af13',\n",
       " 'af14',\n",
       " 'af15',\n",
       " 'af16',\n",
       " 'af17',\n",
       " 'af18',\n",
       " 'af19',\n",
       " 'af20',\n",
       " 'af21',\n",
       " 'af22',\n",
       " 'af23',\n",
       " 'af24',\n",
       " 'af25',\n",
       " 'af26',\n",
       " 'af27',\n",
       " 'af28',\n",
       " 'af29',\n",
       " 'af30',\n",
       " 'af31',\n",
       " 'af32',\n",
       " 'af33',\n",
       " 'af34',\n",
       " 'af35',\n",
       " 'af36',\n",
       " 'af37',\n",
       " 'af38',\n",
       " 'af39',\n",
       " 'af40',\n",
       " 'af41',\n",
       " 'af42',\n",
       " 'af43',\n",
       " 'af44',\n",
       " 'af45',\n",
       " 'af46',\n",
       " 'af47',\n",
       " 'af48',\n",
       " 'af49',\n",
       " 'af50',\n",
       " 'af51',\n",
       " 'af52',\n",
       " 'af53',\n",
       " 'af54',\n",
       " 'af55',\n",
       " 'af56',\n",
       " 'af57',\n",
       " 'af58',\n",
       " 'af59',\n",
       " 'af60',\n",
       " 'af61',\n",
       " 'af62',\n",
       " 'af63',\n",
       " 'af64',\n",
       " 'af65',\n",
       " 'af66',\n",
       " 'af67',\n",
       " 'af68',\n",
       " 'af69',\n",
       " 'af70',\n",
       " 'af71',\n",
       " 'af72',\n",
       " 'af73',\n",
       " 'af74',\n",
       " 'af75',\n",
       " 'af76',\n",
       " 'af77',\n",
       " 'af78',\n",
       " 'af79',\n",
       " 'af80',\n",
       " 'af81',\n",
       " 'af82',\n",
       " 'af83',\n",
       " 'af84',\n",
       " 'af85',\n",
       " 'af86',\n",
       " 'af87',\n",
       " 'af88',\n",
       " 'af89',\n",
       " 'af90',\n",
       " 'af91',\n",
       " 'af92',\n",
       " 'af93',\n",
       " 'af94',\n",
       " 'af95',\n",
       " 'af96',\n",
       " 'af97',\n",
       " 'af98',\n",
       " 'af99',\n",
       " 'ag00',\n",
       " 'ag01',\n",
       " 'ag02',\n",
       " 'ag03',\n",
       " 'ag04',\n",
       " 'ag05',\n",
       " 'ag06',\n",
       " 'ag07',\n",
       " 'ag08',\n",
       " 'ag09',\n",
       " 'ag10',\n",
       " 'ag11',\n",
       " 'ag12',\n",
       " 'ag13',\n",
       " 'ag14',\n",
       " 'ag15',\n",
       " 'ag16',\n",
       " 'ag17',\n",
       " 'ag18',\n",
       " 'ag19',\n",
       " 'ag20',\n",
       " 'ag21',\n",
       " 'ag22',\n",
       " 'ag23',\n",
       " 'ag24',\n",
       " 'ag25',\n",
       " 'ag26',\n",
       " 'ag27',\n",
       " 'ag28',\n",
       " 'ag29',\n",
       " 'ag30',\n",
       " 'ag31',\n",
       " 'ag32',\n",
       " 'ag33',\n",
       " 'ag34',\n",
       " 'ag35',\n",
       " 'ag36',\n",
       " 'ag37',\n",
       " 'ag38',\n",
       " 'ag39',\n",
       " 'ag40',\n",
       " 'ag41',\n",
       " 'ag42',\n",
       " 'ag43',\n",
       " 'ag44',\n",
       " 'ag45',\n",
       " 'ag46',\n",
       " 'ag47',\n",
       " 'ag48',\n",
       " 'ag49',\n",
       " 'ag50',\n",
       " 'ag51',\n",
       " 'ag52',\n",
       " 'ag53',\n",
       " 'ag54',\n",
       " 'ag55',\n",
       " 'ag56',\n",
       " 'ag57',\n",
       " 'ag58',\n",
       " 'ag59',\n",
       " 'ag60',\n",
       " 'ag61',\n",
       " 'ag62',\n",
       " 'ag63',\n",
       " 'ag64',\n",
       " 'ag65',\n",
       " 'ag66',\n",
       " 'ag67',\n",
       " 'ag68',\n",
       " 'ag69',\n",
       " 'ag70',\n",
       " 'ag71',\n",
       " 'ag72',\n",
       " 'ag73',\n",
       " 'ag74',\n",
       " 'ag75',\n",
       " 'ag76',\n",
       " 'ag77',\n",
       " 'ag78',\n",
       " 'ag79',\n",
       " 'ag80',\n",
       " 'ag81',\n",
       " 'ag82',\n",
       " 'ag83',\n",
       " 'ag84',\n",
       " 'ag85',\n",
       " 'ag86',\n",
       " 'ag87',\n",
       " 'ag88',\n",
       " 'ag89',\n",
       " 'ag90',\n",
       " 'ag91',\n",
       " 'ag92',\n",
       " 'ag93',\n",
       " 'ag94',\n",
       " 'ag95',\n",
       " 'ag96',\n",
       " 'ag97',\n",
       " 'ag98',\n",
       " 'ag99',\n",
       " 'ah00',\n",
       " 'ah01',\n",
       " 'ah02',\n",
       " 'ah03',\n",
       " 'ah04',\n",
       " 'ah05',\n",
       " 'ah06',\n",
       " 'ah07',\n",
       " 'ah08',\n",
       " 'ah09',\n",
       " 'ah10',\n",
       " 'ah11',\n",
       " 'ah12',\n",
       " 'ah13',\n",
       " 'ah14',\n",
       " 'ah15',\n",
       " 'ah16',\n",
       " 'ah17',\n",
       " 'ah18',\n",
       " 'ah19',\n",
       " 'ah20',\n",
       " 'ah21',\n",
       " 'ah22',\n",
       " 'ah23',\n",
       " 'ah24',\n",
       " 'ah25',\n",
       " 'ah26',\n",
       " 'ah27',\n",
       " 'ah28',\n",
       " 'ah29',\n",
       " 'ah30',\n",
       " 'ah31',\n",
       " 'ah32',\n",
       " 'ah33',\n",
       " 'ah34',\n",
       " 'ah35',\n",
       " 'ah36',\n",
       " 'ah37',\n",
       " 'ah38',\n",
       " 'ah39',\n",
       " 'ah40',\n",
       " 'ah41',\n",
       " 'ah42',\n",
       " 'ah43',\n",
       " 'ah44',\n",
       " 'ah45',\n",
       " 'ah46',\n",
       " 'ah47',\n",
       " 'ah48',\n",
       " 'ah49',\n",
       " 'ah50',\n",
       " 'ah51',\n",
       " 'ah52',\n",
       " 'ah53',\n",
       " 'ah54',\n",
       " 'ah55',\n",
       " 'ah56',\n",
       " 'ah57',\n",
       " 'ah58',\n",
       " 'ah59',\n",
       " 'ah60',\n",
       " 'ah61',\n",
       " 'ah62',\n",
       " 'ah63',\n",
       " 'ah64',\n",
       " 'ah65',\n",
       " 'ah66',\n",
       " 'ah67',\n",
       " 'ah68',\n",
       " 'ah69',\n",
       " 'ah70',\n",
       " 'ah71',\n",
       " 'ah72',\n",
       " 'ah73',\n",
       " 'ah74',\n",
       " 'ah75',\n",
       " 'ah76',\n",
       " 'ah77',\n",
       " 'ah78',\n",
       " 'ah79',\n",
       " 'ah80',\n",
       " 'ah81',\n",
       " 'ah82',\n",
       " 'ah83',\n",
       " 'ah84',\n",
       " 'ah85',\n",
       " 'ah86',\n",
       " 'ah87',\n",
       " 'ah88',\n",
       " 'ah89',\n",
       " 'ah90',\n",
       " 'ah91',\n",
       " 'ah92',\n",
       " 'ah93',\n",
       " 'ah94',\n",
       " 'ah95',\n",
       " 'ah96',\n",
       " 'ah97',\n",
       " 'ah98',\n",
       " 'ah99',\n",
       " 'ai00',\n",
       " 'ai01',\n",
       " 'ai02',\n",
       " 'ai03',\n",
       " 'ai04',\n",
       " 'ai05',\n",
       " 'ai06',\n",
       " 'ai07',\n",
       " 'ai08',\n",
       " 'ai09',\n",
       " 'ai10',\n",
       " 'ai11',\n",
       " 'ai12',\n",
       " 'ai13',\n",
       " 'ai14',\n",
       " 'ai15',\n",
       " 'ai16',\n",
       " 'ai17',\n",
       " 'ai18',\n",
       " 'ai19',\n",
       " 'ai20',\n",
       " 'ai21',\n",
       " 'ai22',\n",
       " 'ai23',\n",
       " 'ai24',\n",
       " 'ai25',\n",
       " 'ai26',\n",
       " 'ai27',\n",
       " 'ai28',\n",
       " 'ai29',\n",
       " 'ai30',\n",
       " 'ai31',\n",
       " 'ai32',\n",
       " 'ai33',\n",
       " 'ai34',\n",
       " 'ai35',\n",
       " 'ai36',\n",
       " 'ai37',\n",
       " 'ai38',\n",
       " 'ai39',\n",
       " 'ai40',\n",
       " 'ai41',\n",
       " 'ai42',\n",
       " 'ai43',\n",
       " 'ai44',\n",
       " 'ai45',\n",
       " 'ai46',\n",
       " 'ai47',\n",
       " 'ai48',\n",
       " 'ai49',\n",
       " 'ai50',\n",
       " 'ai51',\n",
       " 'ai52',\n",
       " 'ai53',\n",
       " 'ai54',\n",
       " 'ai55',\n",
       " 'ai56',\n",
       " 'ai57',\n",
       " 'ai58',\n",
       " 'ai59',\n",
       " 'ai60',\n",
       " 'ai61',\n",
       " 'ai62',\n",
       " 'ai63',\n",
       " 'ai64',\n",
       " 'ai65',\n",
       " 'ai66',\n",
       " 'ai67',\n",
       " 'ai68',\n",
       " 'ai69',\n",
       " 'ai70',\n",
       " 'ai71',\n",
       " 'ai72',\n",
       " 'ai73',\n",
       " 'ai74',\n",
       " 'ai75',\n",
       " 'ai76',\n",
       " 'ai77',\n",
       " 'ai78',\n",
       " 'ai79',\n",
       " 'ai80',\n",
       " 'ai81',\n",
       " 'ai82',\n",
       " 'ai83',\n",
       " 'ai84',\n",
       " 'ai85',\n",
       " 'ai86',\n",
       " 'ai87',\n",
       " 'ai88',\n",
       " 'ai89',\n",
       " 'ai90',\n",
       " 'ai91',\n",
       " 'ai92',\n",
       " 'ai93',\n",
       " 'ai94',\n",
       " 'ai95',\n",
       " 'ai96',\n",
       " 'ai97',\n",
       " 'ai98',\n",
       " 'ai99',\n",
       " 'aj00',\n",
       " 'aj01',\n",
       " 'aj02',\n",
       " 'aj03',\n",
       " 'aj04',\n",
       " 'aj05',\n",
       " 'aj06',\n",
       " 'aj07',\n",
       " 'aj08',\n",
       " 'aj09',\n",
       " 'aj10',\n",
       " 'aj11',\n",
       " 'aj12',\n",
       " 'aj13',\n",
       " 'aj14',\n",
       " 'aj15',\n",
       " 'aj16',\n",
       " 'aj17',\n",
       " 'aj18',\n",
       " 'aj19',\n",
       " 'aj20',\n",
       " 'aj21',\n",
       " 'aj22',\n",
       " 'aj23',\n",
       " 'aj24',\n",
       " 'aj25',\n",
       " 'aj26',\n",
       " 'aj27',\n",
       " 'aj28',\n",
       " 'aj29',\n",
       " 'aj30',\n",
       " 'aj31',\n",
       " 'aj32',\n",
       " 'aj33',\n",
       " 'aj34',\n",
       " 'aj35',\n",
       " 'aj36',\n",
       " 'aj37',\n",
       " 'aj38',\n",
       " 'aj39',\n",
       " 'aj40',\n",
       " 'aj41',\n",
       " 'aj42',\n",
       " 'aj43',\n",
       " 'aj44',\n",
       " 'aj45',\n",
       " 'aj46',\n",
       " 'aj47',\n",
       " 'aj48',\n",
       " 'aj49',\n",
       " 'aj50',\n",
       " 'aj51',\n",
       " 'aj52',\n",
       " 'aj53',\n",
       " 'aj54',\n",
       " 'aj55',\n",
       " 'aj56',\n",
       " 'aj57',\n",
       " 'aj58',\n",
       " 'aj59',\n",
       " 'aj60',\n",
       " 'aj61',\n",
       " 'aj62',\n",
       " 'aj63',\n",
       " 'aj64',\n",
       " 'aj65',\n",
       " 'aj66',\n",
       " 'aj67',\n",
       " 'aj68',\n",
       " 'aj69',\n",
       " 'aj70',\n",
       " 'aj71',\n",
       " 'aj72',\n",
       " 'aj73',\n",
       " 'aj74',\n",
       " 'aj75',\n",
       " 'aj76',\n",
       " 'aj77',\n",
       " 'aj78',\n",
       " 'aj79',\n",
       " 'aj80',\n",
       " 'aj81',\n",
       " 'aj82',\n",
       " 'aj83',\n",
       " 'aj84',\n",
       " 'aj85',\n",
       " 'aj86',\n",
       " 'aj87',\n",
       " 'aj88',\n",
       " 'aj89',\n",
       " 'aj90',\n",
       " 'aj91',\n",
       " 'aj92',\n",
       " 'aj93',\n",
       " 'aj94',\n",
       " 'aj95',\n",
       " 'aj96',\n",
       " 'aj97',\n",
       " 'aj98',\n",
       " 'aj99',\n",
       " ...]"
      ]
     },
     "execution_count": 99,
     "metadata": {},
     "output_type": "execute_result"
    }
   ],
   "source": [
    "# exercise: write list comprehension for all combos of two letters/two numbers\n",
    "\n",
    "lowercase = 'abcdefghijklmnopqrstuvwxyz'\n",
    "digits = '0123456789'\n",
    "\n",
    "answer = [(l1 + l2 + d1 + d2) for l1 in lowercase for l2 in lowercase for d1 in digits for d2 in digits]\n",
    "answer"
   ]
  },
  {
   "cell_type": "markdown",
   "metadata": {},
   "source": [
    "## NumPy\n",
    "Fundamental package for scientific computing"
   ]
  },
  {
   "cell_type": "code",
   "execution_count": 230,
   "metadata": {
    "collapsed": true
   },
   "outputs": [],
   "source": [
    "import numpy as np"
   ]
  },
  {
   "cell_type": "code",
   "execution_count": 231,
   "metadata": {},
   "outputs": [
    {
     "data": {
      "text/plain": [
       "array([1, 2, 3])"
      ]
     },
     "execution_count": 231,
     "metadata": {},
     "output_type": "execute_result"
    }
   ],
   "source": [
    "# create array\n",
    "my_list = [1, 2, 3]\n",
    "x = np.array(my_list)\n",
    "x"
   ]
  },
  {
   "cell_type": "code",
   "execution_count": 103,
   "metadata": {},
   "outputs": [
    {
     "data": {
      "text/plain": [
       "array([4, 5, 6])"
      ]
     },
     "execution_count": 103,
     "metadata": {},
     "output_type": "execute_result"
    }
   ],
   "source": [
    "# put list directly into np.array()\n",
    "y = np.array([4, 5, 6])\n",
    "y"
   ]
  },
  {
   "cell_type": "code",
   "execution_count": 105,
   "metadata": {},
   "outputs": [
    {
     "data": {
      "text/plain": [
       "array([[ 7,  8,  9],\n",
       "       [10, 11, 12]])"
      ]
     },
     "execution_count": 105,
     "metadata": {},
     "output_type": "execute_result"
    }
   ],
   "source": [
    "# two dimensional array\n",
    "m = np.array([[7, 8, 9], [10, 11, 12]])\n",
    "m"
   ]
  },
  {
   "cell_type": "code",
   "execution_count": 107,
   "metadata": {},
   "outputs": [
    {
     "data": {
      "text/plain": [
       "(2, 3)"
      ]
     },
     "execution_count": 107,
     "metadata": {},
     "output_type": "execute_result"
    }
   ],
   "source": [
    "# shape of array in dimensions\n",
    "m.shape"
   ]
  },
  {
   "cell_type": "code",
   "execution_count": 109,
   "metadata": {},
   "outputs": [
    {
     "data": {
      "text/plain": [
       "array([ 0,  2,  4,  6,  8, 10, 12, 14, 16, 18, 20, 22, 24, 26, 28])"
      ]
     },
     "execution_count": 109,
     "metadata": {},
     "output_type": "execute_result"
    }
   ],
   "source": [
    "n = np.arange(0, 30, 2)\n",
    "n"
   ]
  },
  {
   "cell_type": "code",
   "execution_count": 233,
   "metadata": {},
   "outputs": [
    {
     "data": {
      "text/plain": [
       "array([[ 0,  2,  4,  6,  8],\n",
       "       [10, 12, 14, 16, 18],\n",
       "       [20, 22, 24, 26, 28]])"
      ]
     },
     "execution_count": 233,
     "metadata": {},
     "output_type": "execute_result"
    }
   ],
   "source": [
    "# temporary reshaping for output\n",
    "n.reshape(3, 5)"
   ]
  },
  {
   "cell_type": "code",
   "execution_count": 112,
   "metadata": {},
   "outputs": [
    {
     "data": {
      "text/plain": [
       "array([ 0. ,  0.5,  1. ,  1.5,  2. ,  2.5,  3. ,  3.5,  4. ])"
      ]
     },
     "execution_count": 112,
     "metadata": {},
     "output_type": "execute_result"
    }
   ],
   "source": [
    "# over an interval\n",
    "o = np.linspace(0, 4, 9)\n",
    "o"
   ]
  },
  {
   "cell_type": "code",
   "execution_count": 235,
   "metadata": {},
   "outputs": [
    {
     "data": {
      "text/plain": [
       "array([[ 0. ,  0.5,  1. ],\n",
       "       [ 1.5,  2. ,  2.5],\n",
       "       [ 3. ,  3.5,  4. ]])"
      ]
     },
     "execution_count": 235,
     "metadata": {},
     "output_type": "execute_result"
    }
   ],
   "source": [
    "# resize() changes the shape of the array permanently\n",
    "o.resize(3, 3)\n",
    "o"
   ]
  },
  {
   "cell_type": "code",
   "execution_count": 117,
   "metadata": {},
   "outputs": [
    {
     "data": {
      "text/plain": [
       "array([[ 1.,  1.],\n",
       "       [ 1.,  1.],\n",
       "       [ 1.,  1.]])"
      ]
     },
     "execution_count": 117,
     "metadata": {},
     "output_type": "execute_result"
    }
   ],
   "source": [
    "np.ones((3, 2))"
   ]
  },
  {
   "cell_type": "code",
   "execution_count": 118,
   "metadata": {},
   "outputs": [
    {
     "data": {
      "text/plain": [
       "array([[ 0.,  0.,  0.],\n",
       "       [ 0.,  0.,  0.]])"
      ]
     },
     "execution_count": 118,
     "metadata": {},
     "output_type": "execute_result"
    }
   ],
   "source": [
    "np.zeros((2,3))"
   ]
  },
  {
   "cell_type": "code",
   "execution_count": 121,
   "metadata": {},
   "outputs": [
    {
     "data": {
      "text/plain": [
       "array([[ 1.,  0.,  0.],\n",
       "       [ 0.,  1.,  0.],\n",
       "       [ 0.,  0.,  1.]])"
      ]
     },
     "execution_count": 121,
     "metadata": {},
     "output_type": "execute_result"
    }
   ],
   "source": [
    "np.eye(3)"
   ]
  },
  {
   "cell_type": "code",
   "execution_count": 236,
   "metadata": {},
   "outputs": [
    {
     "data": {
      "text/plain": [
       "array([4, 5, 6])"
      ]
     },
     "execution_count": 236,
     "metadata": {},
     "output_type": "execute_result"
    }
   ],
   "source": [
    "y"
   ]
  },
  {
   "cell_type": "code",
   "execution_count": 237,
   "metadata": {},
   "outputs": [
    {
     "data": {
      "text/plain": [
       "array([[4, 0, 0],\n",
       "       [0, 5, 0],\n",
       "       [0, 0, 6]])"
      ]
     },
     "execution_count": 237,
     "metadata": {},
     "output_type": "execute_result"
    }
   ],
   "source": [
    "np.diag(y)"
   ]
  },
  {
   "cell_type": "code",
   "execution_count": 238,
   "metadata": {},
   "outputs": [
    {
     "data": {
      "text/plain": [
       "array([1, 2, 3, 1, 2, 3, 1, 2, 3])"
      ]
     },
     "execution_count": 238,
     "metadata": {},
     "output_type": "execute_result"
    }
   ],
   "source": [
    "np.array([1, 2, 3] * 3)"
   ]
  },
  {
   "cell_type": "code",
   "execution_count": 239,
   "metadata": {},
   "outputs": [
    {
     "data": {
      "text/plain": [
       "array([1, 1, 1, 2, 2, 2, 3, 3, 3])"
      ]
     },
     "execution_count": 239,
     "metadata": {},
     "output_type": "execute_result"
    }
   ],
   "source": [
    "np.repeat([1, 2, 3], 3)"
   ]
  },
  {
   "cell_type": "code",
   "execution_count": 126,
   "metadata": {},
   "outputs": [
    {
     "data": {
      "text/plain": [
       "array([[1, 1, 1],\n",
       "       [1, 1, 1]])"
      ]
     },
     "execution_count": 126,
     "metadata": {},
     "output_type": "execute_result"
    }
   ],
   "source": [
    "# stacking arrays\n",
    "p = np.ones([2, 3], int)\n",
    "p"
   ]
  },
  {
   "cell_type": "code",
   "execution_count": 127,
   "metadata": {},
   "outputs": [
    {
     "data": {
      "text/plain": [
       "array([[1, 1, 1],\n",
       "       [1, 1, 1],\n",
       "       [2, 2, 2],\n",
       "       [2, 2, 2]])"
      ]
     },
     "execution_count": 127,
     "metadata": {},
     "output_type": "execute_result"
    }
   ],
   "source": [
    "np.vstack([p, p*2])"
   ]
  },
  {
   "cell_type": "code",
   "execution_count": 128,
   "metadata": {},
   "outputs": [
    {
     "data": {
      "text/plain": [
       "array([[1, 1, 1, 2, 2, 2],\n",
       "       [1, 1, 1, 2, 2, 2]])"
      ]
     },
     "execution_count": 128,
     "metadata": {},
     "output_type": "execute_result"
    }
   ],
   "source": [
    "np.hstack([p, p*2])"
   ]
  },
  {
   "cell_type": "markdown",
   "metadata": {},
   "source": [
    "### Operations"
   ]
  },
  {
   "cell_type": "code",
   "execution_count": 240,
   "metadata": {},
   "outputs": [
    {
     "data": {
      "text/plain": [
       "array([1, 2, 3])"
      ]
     },
     "execution_count": 240,
     "metadata": {},
     "output_type": "execute_result"
    }
   ],
   "source": [
    "x"
   ]
  },
  {
   "cell_type": "code",
   "execution_count": 241,
   "metadata": {},
   "outputs": [
    {
     "data": {
      "text/plain": [
       "array([4, 5, 6])"
      ]
     },
     "execution_count": 241,
     "metadata": {},
     "output_type": "execute_result"
    }
   ],
   "source": [
    "y"
   ]
  },
  {
   "cell_type": "code",
   "execution_count": 129,
   "metadata": {},
   "outputs": [
    {
     "data": {
      "text/plain": [
       "array([5, 7, 9])"
      ]
     },
     "execution_count": 129,
     "metadata": {},
     "output_type": "execute_result"
    }
   ],
   "source": [
    "x + y"
   ]
  },
  {
   "cell_type": "code",
   "execution_count": 130,
   "metadata": {},
   "outputs": [
    {
     "data": {
      "text/plain": [
       "array([ 4, 10, 18])"
      ]
     },
     "execution_count": 130,
     "metadata": {},
     "output_type": "execute_result"
    }
   ],
   "source": [
    "x * y"
   ]
  },
  {
   "cell_type": "code",
   "execution_count": 131,
   "metadata": {},
   "outputs": [
    {
     "data": {
      "text/plain": [
       "array([1, 4, 9])"
      ]
     },
     "execution_count": 131,
     "metadata": {},
     "output_type": "execute_result"
    }
   ],
   "source": [
    "x ** 2"
   ]
  },
  {
   "cell_type": "code",
   "execution_count": 132,
   "metadata": {},
   "outputs": [
    {
     "data": {
      "text/plain": [
       "32"
      ]
     },
     "execution_count": 132,
     "metadata": {},
     "output_type": "execute_result"
    }
   ],
   "source": [
    "# summation of xi*yi\n",
    "x.dot(y)"
   ]
  },
  {
   "cell_type": "code",
   "execution_count": 140,
   "metadata": {},
   "outputs": [
    {
     "data": {
      "text/plain": [
       "array([[ 4,  5,  6],\n",
       "       [16, 25, 36]])"
      ]
     },
     "execution_count": 140,
     "metadata": {},
     "output_type": "execute_result"
    }
   ],
   "source": [
    "z = np.array([y, y**2])\n",
    "z"
   ]
  },
  {
   "cell_type": "code",
   "execution_count": 141,
   "metadata": {},
   "outputs": [
    {
     "data": {
      "text/plain": [
       "(2, 3)"
      ]
     },
     "execution_count": 141,
     "metadata": {},
     "output_type": "execute_result"
    }
   ],
   "source": [
    "z.shape"
   ]
  },
  {
   "cell_type": "code",
   "execution_count": 142,
   "metadata": {},
   "outputs": [
    {
     "data": {
      "text/plain": [
       "(3, 2)"
      ]
     },
     "execution_count": 142,
     "metadata": {},
     "output_type": "execute_result"
    }
   ],
   "source": [
    "# transpose\n",
    "z.T.shape"
   ]
  },
  {
   "cell_type": "code",
   "execution_count": 146,
   "metadata": {},
   "outputs": [
    {
     "data": {
      "text/plain": [
       "dtype('int64')"
      ]
     },
     "execution_count": 146,
     "metadata": {},
     "output_type": "execute_result"
    }
   ],
   "source": [
    "# datatype attribute\n",
    "z.dtype"
   ]
  },
  {
   "cell_type": "code",
   "execution_count": 242,
   "metadata": {},
   "outputs": [
    {
     "name": "stdout",
     "output_type": "stream",
     "text": [
      "[[  4.   5.   6.]\n",
      " [ 16.  25.  36.]]\n"
     ]
    }
   ],
   "source": [
    "z = z.astype(\"float\")\n",
    "z.dtype\n",
    "print(z)"
   ]
  },
  {
   "cell_type": "code",
   "execution_count": 148,
   "metadata": {},
   "outputs": [
    {
     "data": {
      "text/plain": [
       "array([-4, -2,  1,  3,  5])"
      ]
     },
     "execution_count": 148,
     "metadata": {},
     "output_type": "execute_result"
    }
   ],
   "source": [
    "a = np.array([-4, -2, 1, 3, 5])\n",
    "a"
   ]
  },
  {
   "cell_type": "code",
   "execution_count": 243,
   "metadata": {
    "collapsed": true
   },
   "outputs": [],
   "source": [
    "# aggregate functions"
   ]
  },
  {
   "cell_type": "code",
   "execution_count": 155,
   "metadata": {},
   "outputs": [
    {
     "data": {
      "text/plain": [
       "3"
      ]
     },
     "execution_count": 155,
     "metadata": {},
     "output_type": "execute_result"
    }
   ],
   "source": [
    "a.sum()"
   ]
  },
  {
   "cell_type": "code",
   "execution_count": 156,
   "metadata": {},
   "outputs": [
    {
     "data": {
      "text/plain": [
       "5"
      ]
     },
     "execution_count": 156,
     "metadata": {},
     "output_type": "execute_result"
    }
   ],
   "source": [
    "a.max()"
   ]
  },
  {
   "cell_type": "code",
   "execution_count": 157,
   "metadata": {},
   "outputs": [
    {
     "data": {
      "text/plain": [
       "-4"
      ]
     },
     "execution_count": 157,
     "metadata": {},
     "output_type": "execute_result"
    }
   ],
   "source": [
    "a.min()"
   ]
  },
  {
   "cell_type": "code",
   "execution_count": 158,
   "metadata": {},
   "outputs": [
    {
     "data": {
      "text/plain": [
       "0.60"
      ]
     },
     "execution_count": 158,
     "metadata": {},
     "output_type": "execute_result"
    }
   ],
   "source": [
    "a.mean()"
   ]
  },
  {
   "cell_type": "code",
   "execution_count": 159,
   "metadata": {},
   "outputs": [
    {
     "data": {
      "text/plain": [
       "3.26"
      ]
     },
     "execution_count": 159,
     "metadata": {},
     "output_type": "execute_result"
    }
   ],
   "source": [
    "a.std()"
   ]
  },
  {
   "cell_type": "code",
   "execution_count": 160,
   "metadata": {},
   "outputs": [
    {
     "data": {
      "text/plain": [
       "4"
      ]
     },
     "execution_count": 160,
     "metadata": {},
     "output_type": "execute_result"
    }
   ],
   "source": [
    "# index of highest value\n",
    "a.argmax()"
   ]
  },
  {
   "cell_type": "code",
   "execution_count": 161,
   "metadata": {},
   "outputs": [
    {
     "data": {
      "text/plain": [
       "0"
      ]
     },
     "execution_count": 161,
     "metadata": {},
     "output_type": "execute_result"
    }
   ],
   "source": [
    "# index of lowest value\n",
    "a.argmin()"
   ]
  },
  {
   "cell_type": "markdown",
   "metadata": {},
   "source": [
    "### Indexing and Slicing"
   ]
  },
  {
   "cell_type": "code",
   "execution_count": 163,
   "metadata": {},
   "outputs": [
    {
     "data": {
      "text/plain": [
       "array([  0,   1,   4,   9,  16,  25,  36,  49,  64,  81, 100, 121, 144])"
      ]
     },
     "execution_count": 163,
     "metadata": {},
     "output_type": "execute_result"
    }
   ],
   "source": [
    "s = np.arange(13) ** 2\n",
    "s"
   ]
  },
  {
   "cell_type": "code",
   "execution_count": 164,
   "metadata": {
    "scrolled": true
   },
   "outputs": [
    {
     "data": {
      "text/plain": [
       "(0, 16, array([0, 1, 4]))"
      ]
     },
     "execution_count": 164,
     "metadata": {},
     "output_type": "execute_result"
    }
   ],
   "source": [
    "s[0], s[4], s[:3]"
   ]
  },
  {
   "cell_type": "code",
   "execution_count": 165,
   "metadata": {},
   "outputs": [
    {
     "data": {
      "text/plain": [
       "array([ 1,  4,  9, 16])"
      ]
     },
     "execution_count": 165,
     "metadata": {},
     "output_type": "execute_result"
    }
   ],
   "source": [
    "s[1:5]"
   ]
  },
  {
   "cell_type": "code",
   "execution_count": 167,
   "metadata": {},
   "outputs": [
    {
     "data": {
      "text/plain": [
       "array([ 81, 100, 121, 144])"
      ]
     },
     "execution_count": 167,
     "metadata": {},
     "output_type": "execute_result"
    }
   ],
   "source": [
    "s[-4:]"
   ]
  },
  {
   "cell_type": "code",
   "execution_count": 168,
   "metadata": {},
   "outputs": [
    {
     "data": {
      "text/plain": [
       "array([64, 36, 16,  4,  0])"
      ]
     },
     "execution_count": 168,
     "metadata": {},
     "output_type": "execute_result"
    }
   ],
   "source": [
    "# reverse sliced\n",
    "s[-5::-2]"
   ]
  },
  {
   "cell_type": "code",
   "execution_count": 170,
   "metadata": {},
   "outputs": [
    {
     "data": {
      "text/plain": [
       "array([[ 0,  1,  2,  3,  4,  5],\n",
       "       [ 6,  7,  8,  9, 10, 11],\n",
       "       [12, 13, 14, 15, 16, 17],\n",
       "       [18, 19, 20, 21, 22, 23],\n",
       "       [24, 25, 26, 27, 28, 29],\n",
       "       [30, 31, 32, 33, 34, 35]])"
      ]
     },
     "execution_count": 170,
     "metadata": {},
     "output_type": "execute_result"
    }
   ],
   "source": [
    "# slicing two dimensional arrays\n",
    "r = np.arange(36)\n",
    "r.resize((6,6))\n",
    "r"
   ]
  },
  {
   "cell_type": "code",
   "execution_count": 171,
   "metadata": {},
   "outputs": [
    {
     "data": {
      "text/plain": [
       "14"
      ]
     },
     "execution_count": 171,
     "metadata": {},
     "output_type": "execute_result"
    }
   ],
   "source": [
    "r[2, 2]"
   ]
  },
  {
   "cell_type": "code",
   "execution_count": 172,
   "metadata": {},
   "outputs": [
    {
     "data": {
      "text/plain": [
       "array([21, 22, 23])"
      ]
     },
     "execution_count": 172,
     "metadata": {},
     "output_type": "execute_result"
    }
   ],
   "source": [
    "r[3, 3:6]"
   ]
  },
  {
   "cell_type": "code",
   "execution_count": 173,
   "metadata": {},
   "outputs": [
    {
     "data": {
      "text/plain": [
       "array([[ 0,  1,  2,  3,  4],\n",
       "       [ 6,  7,  8,  9, 10]])"
      ]
     },
     "execution_count": 173,
     "metadata": {},
     "output_type": "execute_result"
    }
   ],
   "source": [
    "r[:2, :-1]"
   ]
  },
  {
   "cell_type": "code",
   "execution_count": 174,
   "metadata": {},
   "outputs": [
    {
     "data": {
      "text/plain": [
       "array([[30, 32, 34]])"
      ]
     },
     "execution_count": 174,
     "metadata": {},
     "output_type": "execute_result"
    }
   ],
   "source": [
    "r[-1:, ::2]"
   ]
  },
  {
   "cell_type": "code",
   "execution_count": 175,
   "metadata": {},
   "outputs": [
    {
     "data": {
      "text/plain": [
       "array([31, 32, 33, 34, 35])"
      ]
     },
     "execution_count": 175,
     "metadata": {},
     "output_type": "execute_result"
    }
   ],
   "source": [
    "# conditions\n",
    "r[r > 30]"
   ]
  },
  {
   "cell_type": "code",
   "execution_count": 177,
   "metadata": {},
   "outputs": [
    {
     "data": {
      "text/plain": [
       "array([[ 0,  1,  2,  3,  4,  5],\n",
       "       [ 6,  7,  8,  9, 10, 11],\n",
       "       [12, 13, 14, 15, 16, 17],\n",
       "       [18, 19, 20, 21, 22, 23],\n",
       "       [24, 25, 26, 27, 28, 29],\n",
       "       [30, 30, 30, 30, 30, 30]])"
      ]
     },
     "execution_count": 177,
     "metadata": {},
     "output_type": "execute_result"
    }
   ],
   "source": [
    "# set max to 30\n",
    "r[r > 30] = 30\n",
    "r"
   ]
  },
  {
   "cell_type": "code",
   "execution_count": 179,
   "metadata": {},
   "outputs": [
    {
     "data": {
      "text/plain": [
       "array([[ 0,  1,  2],\n",
       "       [ 6,  7,  8],\n",
       "       [12, 13, 14]])"
      ]
     },
     "execution_count": 179,
     "metadata": {},
     "output_type": "execute_result"
    }
   ],
   "source": [
    "r2 = r[:3, :3]\n",
    "r2"
   ]
  },
  {
   "cell_type": "code",
   "execution_count": 180,
   "metadata": {},
   "outputs": [
    {
     "data": {
      "text/plain": [
       "array([[0, 0, 0],\n",
       "       [0, 0, 0],\n",
       "       [0, 0, 0]])"
      ]
     },
     "execution_count": 180,
     "metadata": {},
     "output_type": "execute_result"
    }
   ],
   "source": [
    "r2[:] = 0\n",
    "r2"
   ]
  },
  {
   "cell_type": "code",
   "execution_count": 181,
   "metadata": {},
   "outputs": [
    {
     "data": {
      "text/plain": [
       "array([[ 0,  0,  0,  3,  4,  5],\n",
       "       [ 0,  0,  0,  9, 10, 11],\n",
       "       [ 0,  0,  0, 15, 16, 17],\n",
       "       [18, 19, 20, 21, 22, 23],\n",
       "       [24, 25, 26, 27, 28, 29],\n",
       "       [30, 30, 30, 30, 30, 30]])"
      ]
     },
     "execution_count": 181,
     "metadata": {},
     "output_type": "execute_result"
    }
   ],
   "source": [
    "# remember that arrays referencing other arrays affect the original array\n",
    "r"
   ]
  },
  {
   "cell_type": "code",
   "execution_count": 182,
   "metadata": {},
   "outputs": [
    {
     "data": {
      "text/plain": [
       "array([[ 0,  0,  0,  3,  4,  5],\n",
       "       [ 0,  0,  0,  9, 10, 11],\n",
       "       [ 0,  0,  0, 15, 16, 17],\n",
       "       [18, 19, 20, 21, 22, 23],\n",
       "       [24, 25, 26, 27, 28, 29],\n",
       "       [30, 30, 30, 30, 30, 30]])"
      ]
     },
     "execution_count": 182,
     "metadata": {},
     "output_type": "execute_result"
    }
   ],
   "source": [
    "# to make a copy\n",
    "r_copy = r.copy()\n",
    "r_copy"
   ]
  },
  {
   "cell_type": "code",
   "execution_count": 183,
   "metadata": {},
   "outputs": [
    {
     "name": "stdout",
     "output_type": "stream",
     "text": [
      "[[10 10 10 10 10 10]\n",
      " [10 10 10 10 10 10]\n",
      " [10 10 10 10 10 10]\n",
      " [10 10 10 10 10 10]\n",
      " [10 10 10 10 10 10]\n",
      " [10 10 10 10 10 10]]\n",
      "\n",
      "[[ 0  0  0  3  4  5]\n",
      " [ 0  0  0  9 10 11]\n",
      " [ 0  0  0 15 16 17]\n",
      " [18 19 20 21 22 23]\n",
      " [24 25 26 27 28 29]\n",
      " [30 30 30 30 30 30]]\n"
     ]
    }
   ],
   "source": [
    "# now r wont be affected\n",
    "r_copy[:] = 10\n",
    "print(r_copy)\n",
    "print()\n",
    "print(r)"
   ]
  },
  {
   "cell_type": "code",
   "execution_count": 184,
   "metadata": {},
   "outputs": [
    {
     "name": "stdout",
     "output_type": "stream",
     "text": [
      "[[0 0 1]\n",
      " [1 1 1]]\n"
     ]
    }
   ],
   "source": [
    "# exercise: what will the output be?\n",
    "old = np.array([[1, 1, 1],\n",
    "                [1, 1, 1]])\n",
    "\n",
    "new = old\n",
    "new[0, :2] = 0\n",
    "\n",
    "# ([0, 0, 1],\n",
    "#  [1, 1, 1])\n",
    "\n",
    "print(old)"
   ]
  },
  {
   "cell_type": "markdown",
   "metadata": {},
   "source": [
    "### Iterating over Arrays"
   ]
  },
  {
   "cell_type": "code",
   "execution_count": 244,
   "metadata": {},
   "outputs": [
    {
     "data": {
      "text/plain": [
       "array([[9, 6, 0],\n",
       "       [5, 2, 7],\n",
       "       [4, 1, 2],\n",
       "       [5, 6, 3]])"
      ]
     },
     "execution_count": 244,
     "metadata": {},
     "output_type": "execute_result"
    }
   ],
   "source": [
    "test = np.random.randint(low=0, high=10, size=(4, 3))\n",
    "test"
   ]
  },
  {
   "cell_type": "code",
   "execution_count": 191,
   "metadata": {},
   "outputs": [
    {
     "name": "stdout",
     "output_type": "stream",
     "text": [
      "[2 6 0]\n",
      "[1 8 6]\n",
      "[1 4 9]\n",
      "[9 5 3]\n"
     ]
    }
   ],
   "source": [
    "# value\n",
    "for row in test:\n",
    "    print(row)"
   ]
  },
  {
   "cell_type": "code",
   "execution_count": 188,
   "metadata": {},
   "outputs": [
    {
     "name": "stdout",
     "output_type": "stream",
     "text": [
      "[2 6 0]\n",
      "[1 8 6]\n",
      "[1 4 9]\n",
      "[9 5 3]\n"
     ]
    }
   ],
   "source": [
    "# indices\n",
    "for i in range(len(test)):\n",
    "    print(test[i])"
   ]
  },
  {
   "cell_type": "code",
   "execution_count": 189,
   "metadata": {},
   "outputs": [
    {
     "name": "stdout",
     "output_type": "stream",
     "text": [
      "row 0 is [2 6 0]\n",
      "row 1 is [1 8 6]\n",
      "row 2 is [1 4 9]\n",
      "row 3 is [9 5 3]\n"
     ]
    }
   ],
   "source": [
    "# both\n",
    "for i, row in enumerate(test):\n",
    "    print(\"row\", i, \"is\", row)"
   ]
  },
  {
   "cell_type": "code",
   "execution_count": 192,
   "metadata": {},
   "outputs": [
    {
     "data": {
      "text/plain": [
       "array([[ 4, 36,  0],\n",
       "       [ 1, 64, 36],\n",
       "       [ 1, 16, 81],\n",
       "       [81, 25,  9]])"
      ]
     },
     "execution_count": 192,
     "metadata": {},
     "output_type": "execute_result"
    }
   ],
   "source": [
    "test_2 = test**2\n",
    "test_2"
   ]
  },
  {
   "cell_type": "code",
   "execution_count": 245,
   "metadata": {},
   "outputs": [
    {
     "data": {
      "text/plain": [
       "<zip at 0x113da3748>"
      ]
     },
     "execution_count": 245,
     "metadata": {},
     "output_type": "execute_result"
    }
   ],
   "source": [
    "# zip(): Make an iterator that aggregates elements from each of the iterables.\n",
    "zip(test, test_2)"
   ]
  },
  {
   "cell_type": "code",
   "execution_count": 246,
   "metadata": {},
   "outputs": [
    {
     "name": "stdout",
     "output_type": "stream",
     "text": [
      "[9 6 0] + [ 4 36  0] = [13 42  0]\n",
      "[5 2 7] + [ 1 64 36] = [ 6 66 43]\n",
      "[4 1 2] + [ 1 16 81] = [ 5 17 83]\n",
      "[5 6 3] + [81 25  9] = [86 31 12]\n"
     ]
    }
   ],
   "source": [
    "for i, j in zip(test, test_2):\n",
    "    print(i, \"+\", j, \"=\", i + j)"
   ]
  },
  {
   "cell_type": "code",
   "execution_count": null,
   "metadata": {
    "collapsed": true
   },
   "outputs": [],
   "source": []
  }
 ],
 "metadata": {
  "kernelspec": {
   "display_name": "Python 3",
   "language": "python",
   "name": "python3"
  },
  "language_info": {
   "codemirror_mode": {
    "name": "ipython",
    "version": 3
   },
   "file_extension": ".py",
   "mimetype": "text/x-python",
   "name": "python",
   "nbconvert_exporter": "python",
   "pygments_lexer": "ipython3",
   "version": "3.6.3"
  }
 },
 "nbformat": 4,
 "nbformat_minor": 2
}
