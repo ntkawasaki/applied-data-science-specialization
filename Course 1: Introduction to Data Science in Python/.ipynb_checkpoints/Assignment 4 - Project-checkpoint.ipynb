{
 "cells": [
  {
   "cell_type": "markdown",
   "metadata": {},
   "source": [
    "---\n",
    "\n",
    "_You are currently looking at **version 1.1** of this notebook. To download notebooks and datafiles, as well as get help on Jupyter notebooks in the Coursera platform, visit the [Jupyter Notebook FAQ](https://www.coursera.org/learn/python-data-analysis/resources/0dhYG) course resource._\n",
    "\n",
    "---"
   ]
  },
  {
   "cell_type": "code",
   "execution_count": 2,
   "metadata": {
    "collapsed": true
   },
   "outputs": [],
   "source": [
    "import pandas as pd\n",
    "import numpy as np\n",
    "from scipy.stats import ttest_ind"
   ]
  },
  {
   "cell_type": "markdown",
   "metadata": {},
   "source": [
    "# Assignment 4 - Hypothesis Testing\n",
    "This assignment requires more individual learning than previous assignments - you are encouraged to check out the [pandas documentation](http://pandas.pydata.org/pandas-docs/stable/) to find functions or methods you might not have used yet, or ask questions on [Stack Overflow](http://stackoverflow.com/) and tag them as pandas and python related. And of course, the discussion forums are open for interaction with your peers and the course staff.\n",
    "\n",
    "Definitions:\n",
    "* A _quarter_ is a specific three month period, Q1 is January through March, Q2 is April through June, Q3 is July through September, Q4 is October through December.\n",
    "* A _recession_ is defined as starting with two consecutive quarters of GDP decline, and ending with two consecutive quarters of GDP growth.\n",
    "* A _recession bottom_ is the quarter within a recession which had the lowest GDP.\n",
    "* A _university town_ is a city which has a high percentage of university students compared to the total population of the city.\n",
    "\n",
    "**Hypothesis**: University towns have their mean housing prices less effected by recessions. Run a t-test to compare the ratio of the mean price of houses in university towns the quarter before the recession starts compared to the recession bottom. (`price_ratio=quarter_before_recession/recession_bottom`)\n",
    "\n",
    "The following data files are available for this assignment:\n",
    "* From the [Zillow research data site](http://www.zillow.com/research/data/) there is housing data for the United States. In particular the datafile for [all homes at a city level](http://files.zillowstatic.com/research/public/City/City_Zhvi_AllHomes.csv), ```City_Zhvi_AllHomes.csv```, has median home sale prices at a fine grained level.\n",
    "* From the Wikipedia page on college towns is a list of [university towns in the United States](https://en.wikipedia.org/wiki/List_of_college_towns#College_towns_in_the_United_States) which has been copy and pasted into the file ```university_towns.txt```.\n",
    "* From Bureau of Economic Analysis, US Department of Commerce, the [GDP over time](http://www.bea.gov/national/index.htm#gdp) of the United States in current dollars (use the chained value in 2009 dollars), in quarterly intervals, in the file ```gdplev.xls```. For this assignment, only look at GDP data from the first quarter of 2000 onward.\n",
    "\n",
    "Each function in this assignment below is worth 10%, with the exception of ```run_ttest()```, which is worth 50%."
   ]
  },
  {
   "cell_type": "code",
   "execution_count": 17,
   "metadata": {
    "collapsed": true
   },
   "outputs": [],
   "source": [
    "# Use this dictionary to map state names to two letter acronyms\n",
    "states = {'OH': 'Ohio', 'KY': 'Kentucky', 'AS': 'American Samoa', 'NV': 'Nevada', 'WY': 'Wyoming', 'NA': 'National', 'AL': 'Alabama', 'MD': 'Maryland', 'AK': 'Alaska', 'UT': 'Utah', 'OR': 'Oregon', 'MT': 'Montana', 'IL': 'Illinois', 'TN': 'Tennessee', 'DC': 'District of Columbia', 'VT': 'Vermont', 'ID': 'Idaho', 'AR': 'Arkansas', 'ME': 'Maine', 'WA': 'Washington', 'HI': 'Hawaii', 'WI': 'Wisconsin', 'MI': 'Michigan', 'IN': 'Indiana', 'NJ': 'New Jersey', 'AZ': 'Arizona', 'GU': 'Guam', 'MS': 'Mississippi', 'PR': 'Puerto Rico', 'NC': 'North Carolina', 'TX': 'Texas', 'SD': 'South Dakota', 'MP': 'Northern Mariana Islands', 'IA': 'Iowa', 'MO': 'Missouri', 'CT': 'Connecticut', 'WV': 'West Virginia', 'SC': 'South Carolina', 'LA': 'Louisiana', 'KS': 'Kansas', 'NY': 'New York', 'NE': 'Nebraska', 'OK': 'Oklahoma', 'FL': 'Florida', 'CA': 'California', 'CO': 'Colorado', 'PA': 'Pennsylvania', 'DE': 'Delaware', 'NM': 'New Mexico', 'RI': 'Rhode Island', 'MN': 'Minnesota', 'VI': 'Virgin Islands', 'NH': 'New Hampshire', 'MA': 'Massachusetts', 'GA': 'Georgia', 'ND': 'North Dakota', 'VA': 'Virginia'}"
   ]
  },
  {
   "cell_type": "code",
   "execution_count": 134,
   "metadata": {
    "scrolled": true
   },
   "outputs": [],
   "source": [
    "def get_list_of_university_towns():\n",
    "    '''Returns a DataFrame of towns and the states they are in from the \n",
    "    university_towns.txt list. The format of the DataFrame should be:\n",
    "    DataFrame( [ [\"Michigan\", \"Ann Arbor\"], [\"Michigan\", \"Yipsilanti\"] ], \n",
    "    columns=[\"State\", \"RegionName\"]  )\n",
    "    \n",
    "    The following cleaning needs to be done:\n",
    "\n",
    "    1. For \"State\", removing characters from \"[\" to the end.\n",
    "    2. For \"RegionName\", when applicable, removing every character from \" (\" to the end.\n",
    "    3. Depending on how you read the data, you may need to remove newline character '\\n'. '''\n",
    "    \n",
    "    current_state = \"\"\n",
    "    state_towns = []\n",
    "\n",
    "    with open('university_towns.txt') as file:\n",
    "        for line in file:\n",
    "            current = line[:-1]\n",
    "            if current[-6:] == \"[edit]\":\n",
    "                state = current[:-6]\n",
    "                continue\n",
    "            if \"(\" in line:\n",
    "                town = current[:line.index('(')-1]\n",
    "                state_towns.append([state, town])\n",
    "            else:\n",
    "                town = current\n",
    "                state_towns.append([state, town])\n",
    "\n",
    "    ut_df = pd.DataFrame(state_towns, columns = [\"State\", \"RegionName\"])\n",
    "    \n",
    "    return ut_df\n",
    "\n",
    "# get_list_of_university_towns()"
   ]
  },
  {
   "cell_type": "code",
   "execution_count": 129,
   "metadata": {
    "collapsed": true
   },
   "outputs": [],
   "source": [
    "def get_gdp_data():\n",
    "    \n",
    "    gdp = pd.read_excel(\"gdplev.xls\")\n",
    "    gdp = gdp.iloc[219:, 4:7]\n",
    "    gdp.columns = [\"Quarter\",\"GDP_Billions_Current\", \"GDP_Billions\"]\n",
    "    del gdp[\"GDP_Billions_Current\"]\n",
    "    gdp[\"GDP_Billions\"].astype(\"float64\")\n",
    "    gdp[\"Net_Change\"] = gdp.GDP_Billions - gdp.GDP_Billions.shift(1)\n",
    "    gdp = gdp.reset_index()\n",
    "    del gdp[\"index\"]\n",
    "    \n",
    "    return gdp"
   ]
  },
  {
   "cell_type": "code",
   "execution_count": 130,
   "metadata": {},
   "outputs": [
    {
     "data": {
      "text/plain": [
       "'2008q3'"
      ]
     },
     "execution_count": 130,
     "metadata": {},
     "output_type": "execute_result"
    }
   ],
   "source": [
    "def get_recession_start():\n",
    "    '''Returns the year and quarter of the recession start time as a \n",
    "    string value in a format such as 2005q3'''\n",
    "\n",
    "    data = get_gdp_data()\n",
    "\n",
    "    for i in range(0, len(data)):\n",
    "        if data.iloc[i][\"Net_Change\"] < 0 and data.iloc[i+1][\"Net_Change\"] < 0:\n",
    "            start_index = i\n",
    "            break\n",
    "            \n",
    "    return data.iloc[start_index].Quarter\n",
    "    \n",
    "# get_recession_start()"
   ]
  },
  {
   "cell_type": "code",
   "execution_count": 131,
   "metadata": {},
   "outputs": [
    {
     "data": {
      "text/plain": [
       "'2009q4'"
      ]
     },
     "execution_count": 131,
     "metadata": {},
     "output_type": "execute_result"
    }
   ],
   "source": [
    "def get_recession_end():\n",
    "    '''Returns the year and quarter of the recession end time as a \n",
    "    string value in a format such as 2005q3'''\n",
    "    \n",
    "    data = get_gdp_data()\n",
    "\n",
    "    start = get_recession_start()\n",
    "    start_index = data[data[\"Quarter\"] == start].index.tolist()[0]  # returns as int\n",
    "    \n",
    "    for i in range(start_index, len(data)):\n",
    "        if data.iloc[i][\"Net_Change\"] > 0 and data.iloc[i+1][\"Net_Change\"] > 0:\n",
    "            end_index = i+1\n",
    "            break\n",
    "            \n",
    "    return data.iloc[end_index].Quarter\n",
    "\n",
    "# get_recession_end()"
   ]
  },
  {
   "cell_type": "code",
   "execution_count": 132,
   "metadata": {},
   "outputs": [
    {
     "data": {
      "text/plain": [
       "'2009q2'"
      ]
     },
     "execution_count": 132,
     "metadata": {},
     "output_type": "execute_result"
    }
   ],
   "source": [
    "def get_recession_bottom():\n",
    "    '''Returns the year and quarter of the recession bottom time as a \n",
    "    string value in a format such as 2005q3'''\n",
    "\n",
    "    data = get_gdp_data()\n",
    "\n",
    "    start = get_recession_start()\n",
    "    start_index = data[data[\"Quarter\"] == start].index.tolist()[0]  # returns as int\n",
    "    end = get_recession_end()\n",
    "    end_index = data[data[\"Quarter\"] == end].index.tolist()[0]      # returns as int\n",
    "    \n",
    "    recession = data[(data.index >= start_index) & (data.index <= end_index)]\n",
    "    min_gdp = recession[\"GDP_Billions\"].min()\n",
    "    bottom_index = recession[recession[\"GDP_Billions\"] == min_gdp].index.tolist()[0]  # returns as int\n",
    "      \n",
    "    return data.iloc[bottom_index].Quarter\n",
    "\n",
    "# get_recession_bottom()"
   ]
  },
  {
   "cell_type": "code",
   "execution_count": 138,
   "metadata": {
    "scrolled": false
   },
   "outputs": [],
   "source": [
    "def convert_housing_data_to_quarters():\n",
    "    '''Converts the housing data to quarters and returns it as mean \n",
    "    values in a dataframe. This dataframe should be a dataframe with\n",
    "    columns for 2000q1 through 2016q3, and should have a multi-index\n",
    "    in the shape of [\"State\",\"RegionName\"].\n",
    "    \n",
    "    Note: Quarters are defined in the assignment description, they are\n",
    "    not arbitrary three month periods.\n",
    "    \n",
    "    The resulting dataframe should have 67 columns, and 10,730 rows.\n",
    "    '''\n",
    "    \n",
    "    raw = pd.read_csv(\"City_Zhvi_AllHomes.csv\")\n",
    "    \n",
    "    # Only want state and region, from 2000-01 on\n",
    "    city_info = raw.iloc[:, [1,2]]\n",
    "    numbers = raw.iloc[:, 51::]\n",
    "    \n",
    "    # Group by Quarters\n",
    "    numbers = numbers.groupby(pd.PeriodIndex(numbers.columns, freq=\"q\"), axis=1).mean()\n",
    "    \n",
    "    # Cast PeriodIndex type to string, then convert Q to lowercase q\n",
    "    numbers.columns = numbers.columns.to_series().astype(\"str\")\n",
    "    numbers.columns = map(str.lower, numbers.columns)\n",
    "\n",
    "    # Merge dataframes\n",
    "    cities = pd.merge(city_info, numbers, left_index=True, right_index=True)\n",
    "    \n",
    "    # Map state abbreviations to full names\n",
    "    cities[\"State\"] = cities[\"State\"].map(states)\n",
    "    \n",
    "    # Set indicies\n",
    "    cities = cities.set_index([\"State\",\"RegionName\"])\n",
    "    \n",
    "    return cities\n",
    "\n",
    "# convert_housing_data_to_quarters()"
   ]
  },
  {
   "cell_type": "code",
   "execution_count": 157,
   "metadata": {},
   "outputs": [
    {
     "data": {
      "text/plain": [
       "(True, 0.0054964273536940869, 'university town')"
      ]
     },
     "execution_count": 157,
     "metadata": {},
     "output_type": "execute_result"
    }
   ],
   "source": [
    "def run_ttest():\n",
    "    '''First creates new data showing the decline or growth of housing prices\n",
    "    between the recession start and the recession bottom. Then runs a ttest\n",
    "    comparing the university town values to the non-university towns values, \n",
    "    return whether the alternative hypothesis (that the two groups are the same)\n",
    "    is true or not as well as the p-value of the confidence. \n",
    "    \n",
    "    Return the tuple (different, p, better) where different=True if the t-test is\n",
    "    True at a p<0.01 (we reject the null hypothesis), or different=False if \n",
    "    otherwise (we cannot reject the null hypothesis). The variable p should\n",
    "    be equal to the exact p value returned from scipy.stats.ttest_ind(). The\n",
    "    value for better should be either \"university town\" or \"non-university town\"\n",
    "    depending on which has a lower mean price ratio (which is equivilent to a\n",
    "    reduced market loss).'''\n",
    "    \n",
    "    \n",
    "    university_towns = get_list_of_university_towns()\n",
    "    start = get_recession_start()\n",
    "    end = get_recession_end()\n",
    "    bottom = get_recession_bottom()\n",
    "\n",
    "    house_prices = convert_housing_data_to_quarters().loc[:, start:end]\n",
    "    house_prices = pd.merge(left=house_prices, right=university_towns, how=\"outer\", left_index=True, right_on=[\"State\", \"RegionName\"], indicator=True)\n",
    "    house_prices[\"Price_Ratio\"] = house_prices.apply(lambda row: (row[\"2008q3\"]-row[\"2009q2\"] ) / row[\"2009q2\"], axis=1)\n",
    "\n",
    "    # Subset dataframes\n",
    "    uni = house_prices.query('_merge == \"both\"').dropna()\n",
    "    non_uni = house_prices.query('_merge == \"left_only\"').dropna()\n",
    "    \n",
    "    # Price ratios\n",
    "    uni_pr = uni[\"Price_Ratio\"].mean()\n",
    "    non_uni_pr = non_uni[\"Price_Ratio\"].mean()\n",
    "\n",
    "    # T-test\n",
    "    ttest = ttest_ind(uni[\"Price_Ratio\"], non_uni[\"Price_Ratio\"], nan_policy=\"omit\")\n",
    "\n",
    "    # Price ratio comparison function\n",
    "    def better():\n",
    "        if uni_pr < non_uni_pr:\n",
    "            return \"university town\"\n",
    "        else:\n",
    "            return \"non-university town\"\n",
    "\n",
    "    # Return variables\n",
    "    different = ttest[1] < 0.01\n",
    "    p = ttest[1]\n",
    "    better = better()\n",
    "\n",
    "    return tuple([different, p, better])\n",
    "\n",
    "# run_ttest()"
   ]
  }
 ],
 "metadata": {
  "coursera": {
   "course_slug": "python-data-analysis",
   "graded_item_id": "Il9Fx",
   "launcher_item_id": "TeDW0",
   "part_id": "WGlun"
  },
  "kernelspec": {
   "display_name": "Python 3",
   "language": "python",
   "name": "python3"
  },
  "language_info": {
   "codemirror_mode": {
    "name": "ipython",
    "version": 3
   },
   "file_extension": ".py",
   "mimetype": "text/x-python",
   "name": "python",
   "nbconvert_exporter": "python",
   "pygments_lexer": "ipython3",
   "version": "3.6.3"
  }
 },
 "nbformat": 4,
 "nbformat_minor": 1
}
